{
 "cells": [
  {
   "cell_type": "markdown",
   "id": "06861354",
   "metadata": {},
   "source": [
    "# Creating and Editing Excel Files from Teradata"
   ]
  },
  {
   "cell_type": "code",
   "execution_count": 1,
   "id": "c8abb48f",
   "metadata": {},
   "outputs": [],
   "source": [
    "# Import libraries\n",
    "import os\n",
    "import teradata\n",
    "import pandas as pd\n",
    "import getpass\n",
    "import numpy as np\n",
    "import warnings\n",
    "warnings.filterwarnings(\"ignore\")"
   ]
  },
  {
   "cell_type": "markdown",
   "id": "d3c9c664",
   "metadata": {},
   "source": [
    "# Connect to Teradata"
   ]
  },
  {
   "cell_type": "code",
   "execution_count": 3,
   "id": "4216675c",
   "metadata": {},
   "outputs": [
    {
     "name": "stdout",
     "output_type": "stream",
     "text": [
      "········\n"
     ]
    }
   ],
   "source": [
    "user = 'grumpy_statistician'\n",
    "auth ='LDAP'\n",
    "passw = getpass.getpass()"
   ]
  },
  {
   "cell_type": "code",
   "execution_count": 4,
   "id": "d8e32882",
   "metadata": {},
   "outputs": [],
   "source": [
    "udaExec = teradata.UdaExec(appName=\"test\", version=\"2.0\", logConsole=False)\n",
    "session = udaExec.connect(method=\"odbc\", system='YOUR_SERVER',\n",
    "                          username=user, password=passw, authentication=auth,\n",
    "                          driver=\"Teradata Database ODBC Driver\")"
   ]
  },
  {
   "cell_type": "markdown",
   "id": "e3560766",
   "metadata": {},
   "source": [
    "# Write Query/Queries \n",
    "Refer to Teradata Module.ipynb for more information"
   ]
  },
  {
   "cell_type": "code",
   "execution_count": 7,
   "id": "00e00878",
   "metadata": {},
   "outputs": [],
   "source": [
    "# for tab 1\n",
    "\n",
    "df = pd.read_sql('''\n",
    "SELECT\n",
    "*\n",
    "FROM YOUR_DB.YOUR_TABLE\n",
    "\n",
    "''',session)\n",
    "\n",
    "\n",
    "df2 = pd.read_sql('''\n",
    "SELECT\n",
    "*\n",
    "FROM YOUR_DB.YOUR_TABLE\n",
    "\n",
    "''',session)\n",
    "\n"
   ]
  },
  {
   "cell_type": "markdown",
   "id": "c3686a0c",
   "metadata": {},
   "source": [
    "# Example: Create two tab Excel file"
   ]
  },
  {
   "cell_type": "code",
   "execution_count": 10,
   "id": "1b4138f3",
   "metadata": {},
   "outputs": [],
   "source": [
    "# https://xlsxwriter.readthedocs.io/index.html for formatting tips\n",
    "\n",
    "writer = pd.ExcelWriter(f'your_filename.xlsx', engine='xlsxwriter')\n",
    "\n",
    "# tab 1\n",
    "df.to_excel(writer, sheet_name='your_sheet_name', index=False)\n",
    "#want to replace 0s with Nan for PY22_CLM \n",
    "df2['PY22_STUFF'] = df2['PY22_STUFF'].replace(0,np.nan)\n",
    "# tab 2\n",
    "df2.to_excel(writer, sheet_name='PY STUFF', index=False)\n",
    "#create workbook\n",
    "workbook = writer.book"
   ]
  },
  {
   "cell_type": "markdown",
   "id": "710bc3d5",
   "metadata": {},
   "source": [
    "# Cell and Row Formatting for Table "
   ]
  },
  {
   "cell_type": "code",
   "execution_count": 11,
   "id": "4ed196ca",
   "metadata": {},
   "outputs": [
    {
     "data": {
      "text/plain": [
       "0"
      ]
     },
     "execution_count": 11,
     "metadata": {},
     "output_type": "execute_result"
    }
   ],
   "source": [
    "# Create worksheet for tab1\n",
    "worksheet1 = writer.sheets['your_sheet_name']\n",
    "\n",
    "# Set first row formatting\n",
    "row_all = workbook.add_format({'bold': True, 'align': 'center'})\n",
    "worksheet1.set_row(0, 15, row_all)  # 15 is the column width\n",
    "\n",
    "# Set Column formatting\n",
    "column_all = workbook.add_format({ 'align': 'left'})\n",
    "worksheet1.set_column('A:C', 35, column_all)\n",
    "\n",
    "# Add Commas to Claim IDs\n",
    "num_format = workbook.add_format({'num_format': '#,##0'})\n",
    "worksheet1.set_column('C:C', 25, num_format)\n",
    "\n",
    "# Add currency format to Paid\n",
    "currency_format = workbook.add_format({'num_format': '$#,##0.00'})\n",
    "worksheet1.set_column('B:B', 25, currency_format)"
   ]
  },
  {
   "cell_type": "markdown",
   "id": "44da5bae",
   "metadata": {},
   "source": [
    "# Creating, Formatting, and Inserting Line Chart "
   ]
  },
  {
   "cell_type": "code",
   "execution_count": 12,
   "id": "78f5bc43",
   "metadata": {},
   "outputs": [],
   "source": [
    "# reference https://xlsxwriter.readthedocs.io/chart.html\n",
    "\n",
    "chart = workbook.add_chart({'type': 'line'})\n",
    "chart.add_series({\n",
    "    'name': 'Total Paid',\n",
    "    'categories': '=your_sheet_name!A2:A22', #Categories are the dates in this case, treat the df like an Excel file\n",
    "    'values': '=CCSR!B2:B22' \n",
    "    })\n",
    "# formatting\n",
    "chart.set_title({'name': 'Paid by Stuff'})\n",
    "\n",
    "chart.set_x_axis({'name': 'Date'})\n",
    "\n",
    "chart.set_y_axis({'name': 'Paid Amounts', 'major_gridlines': {'visible': False}})\n",
    "\n",
    "chart.set_legend({'none': True})\n",
    "\n",
    "# Set an Excel chart style.\n",
    "chart.set_style(5)\n",
    "\n",
    "# Insert\n",
    "worksheet1.insert_chart('E1', chart)\n"
   ]
  },
  {
   "cell_type": "markdown",
   "id": "d3473fc4",
   "metadata": {},
   "source": [
    "# Creating, Formatting, and Inserting Column Chart "
   ]
  },
  {
   "cell_type": "code",
   "execution_count": 13,
   "id": "989a42cd",
   "metadata": {},
   "outputs": [],
   "source": [
    "# Create\n",
    "chart2 = workbook.add_chart({'type': 'column'})\n",
    "chart2.add_series({\n",
    "    'name': 'Total Stuff IDs',\n",
    "    'categories': '=your_sheet_name!A2:A22', #Categories are the dates in this case, treat the df like an Excel file\n",
    "    'values': '=your_sheet_name!C2:C22' \n",
    "    })\n",
    "# formatting\n",
    "chart2.set_title({'name': 'Stuff by Stuff'})\n",
    "\n",
    "chart2.set_x_axis({'name': 'Date'})\n",
    "\n",
    "chart2.set_y_axis({'name': 'Claim IDs', 'major_gridlines': {'visible': False}})\n",
    "\n",
    "chart2.set_legend({'none': True})\n",
    "\n",
    "# Set an Excel chart style.\n",
    "chart2.set_style(6)\n",
    "\n",
    "# Insert\n",
    "worksheet1.insert_chart('E16', chart2)"
   ]
  },
  {
   "cell_type": "markdown",
   "id": "2cf35834",
   "metadata": {},
   "source": [
    "# Cell and Row Formatting "
   ]
  },
  {
   "cell_type": "code",
   "execution_count": 14,
   "id": "422079de",
   "metadata": {},
   "outputs": [
    {
     "data": {
      "text/plain": [
       "0"
      ]
     },
     "execution_count": 14,
     "metadata": {},
     "output_type": "execute_result"
    }
   ],
   "source": [
    "# Create worksheet for tab2\n",
    "worksheet2 = writer.sheets['PY Stuff & Stuff']\n",
    "\n",
    "# Set first row formatting\n",
    "worksheet2.set_row(0, 15, row_all)  # 15 is the column width\n",
    "\n",
    "# Set Column formatting\n",
    "worksheet2.set_column('A:C', 35, column_all)\n",
    "\n",
    "# Add Commas to Claim IDs\n",
    "worksheet2.set_column('D:E', 25, num_format)\n",
    "\n",
    "# Add currency format to Paid\n",
    "worksheet2.set_column('B:C', 25, currency_format)\n",
    "\n"
   ]
  },
  {
   "cell_type": "markdown",
   "id": "bae49f0f",
   "metadata": {},
   "source": [
    "# Creating, Formatting, and Inserting Line Chart w/ Two Categories "
   ]
  },
  {
   "cell_type": "code",
   "execution_count": 15,
   "id": "45619da5",
   "metadata": {},
   "outputs": [],
   "source": [
    "# Create\n",
    "\n",
    "chart3 = workbook.add_chart({'type': 'line'})\n",
    "chart3.add_series({\n",
    "         'name':      \"'PY Stuff & Stuff'!B1\",\n",
    "        'categories': \"'PY Stuff & Stuffs'!A2:A13\",\n",
    "        'values':     \"'PY Stuff & Stuff'!B2:B13\",\n",
    "    })\n",
    "chart3.add_series({\n",
    "         'name':      \"'PY Stuff & Stuff'!C1\",\n",
    "        'categories': \"'PY Stuff & Stuff'!A2:A13\",\n",
    "        'values':     \"'PY Stuff & Stuff'!C2:C13\",\n",
    "    })\n",
    "\n",
    "\n",
    "# formatting\n",
    "chart3.set_title({'name': 'Paid by Stuff & Stuff'})\n",
    "\n",
    "chart3.set_x_axis({'name': 'Month'})\n",
    "\n",
    "chart3.set_y_axis({'name': 'Amounts', 'major_gridlines': {'visible': False}})\n",
    "\n",
    "#chart3.set_legend({'none': True})\n",
    "\n",
    "# Set an Excel chart style.\n",
    "chart3.set_style(7)\n",
    "\n",
    "# Insert\n",
    "worksheet2.insert_chart('A15', chart3)"
   ]
  },
  {
   "cell_type": "markdown",
   "id": "a7cc8ed4",
   "metadata": {},
   "source": [
    "# Creating, Formatting, and Inserting Column Chart w/ Two Categories Part 2"
   ]
  },
  {
   "cell_type": "code",
   "execution_count": 16,
   "id": "b151f859",
   "metadata": {},
   "outputs": [],
   "source": [
    "# Create\n",
    "\n",
    "chart4 = workbook.add_chart({'type': 'column'})\n",
    "chart4.add_series({\n",
    "         'name':      \"'PY Stuff & Stuff'!D1\",\n",
    "        'categories': \"'PY Stuff & Stuff'!A2:A13\",\n",
    "        'values':     \"'PY Stuff & Stuff'!D2:D13\",\n",
    "    })\n",
    "chart4.add_series({\n",
    "         'name':      \"'PY Stuff & Stuff'!E1\",\n",
    "        'categories': \"'PY Stuff & Stuff'!A2:A13\",\n",
    "        'values':     \"'PY Stuff & Stuff'!E2:E13\",\n",
    "    })\n",
    "\n",
    "# formatting\n",
    "chart4.set_title({'name': 'Stuff by Plan Year and Month'})\n",
    "\n",
    "chart4.set_x_axis({'name': 'Month'})\n",
    "\n",
    "chart4.set_y_axis({'name': 'Stuff', 'major_gridlines': {'visible': False}})\n",
    "\n",
    "#chart3.set_legend({'none': True})\n",
    "\n",
    "# Set an Excel chart style.\n",
    "chart4.set_style(22)\n",
    "\n",
    "# Insert\n",
    "worksheet2.insert_chart('D15', chart4)"
   ]
  },
  {
   "cell_type": "markdown",
   "id": "b556937c",
   "metadata": {},
   "source": [
    "Save file"
   ]
  },
  {
   "cell_type": "code",
   "execution_count": 17,
   "id": "9ec16ea3",
   "metadata": {},
   "outputs": [],
   "source": [
    "writer.save()"
   ]
  }
 ],
 "metadata": {
  "kernelspec": {
   "display_name": "Python 3 (ipykernel)",
   "language": "python",
   "name": "python3"
  },
  "language_info": {
   "codemirror_mode": {
    "name": "ipython",
    "version": 3
   },
   "file_extension": ".py",
   "mimetype": "text/x-python",
   "name": "python",
   "nbconvert_exporter": "python",
   "pygments_lexer": "ipython3",
   "version": "3.9.7"
  }
 },
 "nbformat": 4,
 "nbformat_minor": 5
}

{
 "cells": [
  {
   "cell_type": "markdown",
   "id": "fa6cb9bb",
   "metadata": {},
   "source": [
    "# Creating Powerpoint Presentations from Python Using PPTX\n",
    "This guide includes the basics of working with Python-PPTX. For more information on functionality and uses refer to the documentation via the link below:\n",
    "<a>https://python-pptx.readthedocs.io/en/latest/user/quickstart.html</a>"
   ]
  },
  {
   "cell_type": "code",
   "execution_count": 1,
   "id": "a4d4bc24",
   "metadata": {},
   "outputs": [],
   "source": [
    "# py -m pip install python-pptx\n",
    "from pptx import Presentation\n",
    "from pptx.chart.data import CategoryChartData\n",
    "from pptx.chart.data import ChartData\n",
    "from pptx.enum.chart import XL_CHART_TYPE\n",
    "from pptx.util import Inches, Pt\n",
    "from pptx.enum.shapes import MSO_SHAPE\n",
    "import pandas as pd\n",
    "import getpass\n",
    "import teradata\n",
    "import pandas as pd\n",
    "import os\n",
    "import datetime as dt\n"
   ]
  },
  {
   "cell_type": "markdown",
   "id": "7911c6a8",
   "metadata": {},
   "source": [
    "# Connect to Teradata"
   ]
  },
  {
   "cell_type": "code",
   "execution_count": 2,
   "id": "d380194b",
   "metadata": {},
   "outputs": [
    {
     "name": "stdout",
     "output_type": "stream",
     "text": [
      "········\n"
     ]
    }
   ],
   "source": [
    "user = 'grumpy_statistician'\n",
    "auth ='LDAP'\n",
    "passw = getpass.getpass()"
   ]
  },
  {
   "cell_type": "code",
   "execution_count": 3,
   "id": "f0af1309",
   "metadata": {},
   "outputs": [],
   "source": [
    "udaExec = teradata.UdaExec(appName=\"test\", version=\"2.0\", logConsole=False)\n",
    "session = udaExec.connect(method=\"odbc\", system='',\n",
    "                          username=user, password=passw, authentication=auth,\n",
    "                          driver=\"Teradata Database ODBC Driver\")"
   ]
  },
  {
   "cell_type": "markdown",
   "id": "ba1e180c",
   "metadata": {},
   "source": [
    "# Get Data Using Pandas\n",
    "Read in some example data, this can be anything. Using account structure and membership for examples"
   ]
  },
  {
   "cell_type": "markdown",
   "id": "b9998bcb",
   "metadata": {},
   "source": [
    "ERS Account structure example data"
   ]
  },
  {
   "cell_type": "code",
   "execution_count": 4,
   "id": "38c57466",
   "metadata": {
    "scrolled": true
   },
   "outputs": [
    {
     "name": "stderr",
     "output_type": "stream",
     "text": [
      "C:\\Program Files\\Python38\\lib\\site-packages\\pandas\\io\\sql.py:761: UserWarning: pandas only support SQLAlchemy connectable(engine/connection) ordatabase string URI or sqlite3 DBAPI2 connectionother DBAPI2 objects are not tested, please consider using SQLAlchemy\n",
      "  warnings.warn(\n"
     ]
    }
   ],
   "source": [
    "df = pd.read_sql(\n",
    "\"\"\"\n",
    "SELECT\n",
    "stuff\n",
    "FROM YOUR_DB.YOURTABLE A\n",
    "\t\tINNER JOIN YOUR_DB.YOURTABLE2 B\n",
    "\t\t\tON A.thing1= B.thing2\n",
    "GROUP BY 1\n",
    "Order by stuff DESC\n",
    "\"\"\", session)"
   ]
  },
  {
   "cell_type": "markdown",
   "id": "2e29cf52",
   "metadata": {},
   "source": [
    "ERS Membership example data"
   ]
  },
  {
   "cell_type": "code",
   "execution_count": 5,
   "id": "3160d75c",
   "metadata": {},
   "outputs": [
    {
     "name": "stderr",
     "output_type": "stream",
     "text": [
      "C:\\Program Files\\Python38\\lib\\site-packages\\pandas\\io\\sql.py:761: UserWarning: pandas only support SQLAlchemy connectable(engine/connection) ordatabase string URI or sqlite3 DBAPI2 connectionother DBAPI2 objects are not tested, please consider using SQLAlchemy\n",
      "  warnings.warn(\n"
     ]
    }
   ],
   "source": [
    "df2 = pd.read_sql(\"\"\"\n",
    "SELECT\n",
    "stuff\n",
    "FROM YOUR_DB.YOURTABLE A\n",
    "\t\tINNER JOIN YOUR_DB.YOURTABLE2 B\n",
    "\t\t\tON A.thing1= B.thing2\n",
    "GROUP BY 1\n",
    "Order by stuff DESC\n",
    "\n",
    "\"\"\",session)"
   ]
  },
  {
   "cell_type": "markdown",
   "id": "a7ca0fc5",
   "metadata": {},
   "source": [
    "# Create a PowerPoint Object \n",
    "<p>Create a PP object using Presentation(). This will be used for the remainder of the notebook.<p>\n",
    "<a>https://python-pptx.readthedocs.io/en/latest/user/quickstart.html?highlight=title#hello-world-example</a>\n",
    "<p>Add a theme:</p> <a>https://stackoverflow.com/questions/57482998/set-theme-with-python-pptx</a>"
   ]
  },
  {
   "cell_type": "code",
   "execution_count": 6,
   "id": "78deaa05",
   "metadata": {},
   "outputs": [],
   "source": [
    "prs = Presentation()\n",
    "# possible workaround for themes could be to use win32com to create a pptx with a theme to reference"
   ]
  },
  {
   "cell_type": "markdown",
   "id": "234b0d0a",
   "metadata": {},
   "source": [
    "# Create Title Slide\n",
    "\n",
    "There are a number of different slide layout types (0-10). So far, the blank template is the easiest to work with, but we'll take a look at title and then bullet point slides first."
   ]
  },
  {
   "cell_type": "code",
   "execution_count": 7,
   "id": "d73debe5",
   "metadata": {},
   "outputs": [],
   "source": [
    "title_slide_layout = prs.slide_layouts[0]\n",
    "title_slide = prs.slides.add_slide(title_slide_layout)\n",
    "\n",
    "shape = title_slide.shapes"
   ]
  },
  {
   "cell_type": "markdown",
   "id": "4f92e37b",
   "metadata": {},
   "source": [
    "Check out what slide layout contains"
   ]
  },
  {
   "cell_type": "code",
   "execution_count": 8,
   "id": "89515195",
   "metadata": {
    "scrolled": true
   },
   "outputs": [
    {
     "name": "stdout",
     "output_type": "stream",
     "text": [
      "0 Title 1\n",
      "1 Subtitle 2\n"
     ]
    }
   ],
   "source": [
    "\n",
    "shape_read = shape #don't want to overwrite shape\n",
    "for shape_read in title_slide.placeholders:\n",
    "        print('%d %s' % (shape_read.placeholder_format.idx, shape_read.name))"
   ]
  },
  {
   "cell_type": "markdown",
   "id": "01227fc4",
   "metadata": {},
   "source": [
    "Access placeholders and set text"
   ]
  },
  {
   "cell_type": "code",
   "execution_count": 9,
   "id": "985d60fb",
   "metadata": {},
   "outputs": [],
   "source": [
    "title = title_slide.placeholders[0]\n",
    "subtitle = title_slide.placeholders[1]\n",
    "\n",
    "title.text = \"Title Page Example\"\n",
    "subtitle.text = \"Subtitle Example\"\n",
    "\n",
    "\n",
    "#prs.save('Test.pptx')"
   ]
  },
  {
   "cell_type": "markdown",
   "id": "5282670a",
   "metadata": {},
   "source": [
    "# Create Slide with Bullet Points\n",
    "\n",
    "https://python-pptx.readthedocs.io/en/latest/user/quickstart.html#bullet-slide-example"
   ]
  },
  {
   "cell_type": "markdown",
   "id": "9ca13dfa",
   "metadata": {},
   "source": [
    "Select a slide layout - 11 available (0-10)"
   ]
  },
  {
   "cell_type": "code",
   "execution_count": 10,
   "id": "851b36cd",
   "metadata": {},
   "outputs": [],
   "source": [
    "bullet_slide_layout = prs.slide_layouts[1]\n",
    "\n",
    "slide = prs.slides.add_slide(bullet_slide_layout)\n",
    "shape = slide.shapes\n"
   ]
  },
  {
   "cell_type": "markdown",
   "id": "66a64166",
   "metadata": {},
   "source": [
    "Check out what slide contains"
   ]
  },
  {
   "cell_type": "code",
   "execution_count": 11,
   "id": "e1c93ba7",
   "metadata": {
    "scrolled": false
   },
   "outputs": [
    {
     "name": "stdout",
     "output_type": "stream",
     "text": [
      "0 Title 1\n",
      "1 Content Placeholder 2\n"
     ]
    }
   ],
   "source": [
    "shape_read = shape #don't want to overwrite shape\n",
    "for shape_read in slide.placeholders:\n",
    "        print('%d %s' % (shape_read.placeholder_format.idx, shape_read.name))"
   ]
  },
  {
   "cell_type": "markdown",
   "id": "bfec724a",
   "metadata": {},
   "source": [
    "Access placeholders, add text, and test different bullet types"
   ]
  },
  {
   "cell_type": "code",
   "execution_count": 12,
   "id": "f1658a0e",
   "metadata": {},
   "outputs": [],
   "source": [
    "title_shape = slide.placeholders[0]\n",
    "body_shape = slide.placeholders[1]\n",
    "\n",
    "ts = title_shape.text_frame\n",
    "ts.text = 'Bullet Slide Example'\n",
    "\n",
    "bs = body_shape.text_frame\n",
    "bs.text = 'Bullets'\n",
    "\n",
    "# Examples of different bullets\n",
    "for i in [1,2,3,4,5]:\n",
    "    p = bs.add_paragraph()\n",
    "    p.text = f\"Level {i} example\"\n",
    "    p.level = i\n",
    "    \n",
    "#prs.save('Test.pptx')"
   ]
  },
  {
   "cell_type": "markdown",
   "id": "7fb71e01",
   "metadata": {},
   "source": [
    "# Create Custom/Blank Slide and Add Images, Text, Tables, and Shapes\n",
    "https://python-pptx.readthedocs.io/en/latest/user/quickstart.html?highlight=blank_slide_layout"
   ]
  },
  {
   "cell_type": "markdown",
   "id": "b0b18158",
   "metadata": {},
   "source": [
    "Select a slide layout - 11 available (0-10)"
   ]
  },
  {
   "cell_type": "code",
   "execution_count": 13,
   "id": "ca36de9d",
   "metadata": {},
   "outputs": [],
   "source": [
    "blank_slide_layout = prs.slide_layouts[6]\n",
    "slide = prs.slides.add_slide(blank_slide_layout)\n",
    "\n"
   ]
  },
  {
   "cell_type": "markdown",
   "id": "a6996219",
   "metadata": {},
   "source": [
    "Check out what the slide contains (this example should be blank)"
   ]
  },
  {
   "cell_type": "code",
   "execution_count": 14,
   "id": "f4169c85",
   "metadata": {},
   "outputs": [],
   "source": [
    "shape = slide.shapes\n",
    "shape_read = shape #don't want to overwrite shape\n",
    "for shape_read in slide.placeholders:\n",
    "        print('%d %s' % (shape_read.placeholder_format.idx, shape_read.name))"
   ]
  },
  {
   "cell_type": "markdown",
   "id": "01ae88f8",
   "metadata": {},
   "source": [
    "Add picture to slide"
   ]
  },
  {
   "cell_type": "code",
   "execution_count": 15,
   "id": "58725e59",
   "metadata": {},
   "outputs": [],
   "source": [
    "img_path = 'new.jpg'\n",
    "\n",
    "left = Inches(1)\n",
    "top = Inches(0)\n",
    "height = Inches(1)\n",
    "width = Inches(3)\n",
    "pic = slide.shapes.add_picture(img_path, left, top, height=height)\n",
    "\n",
    "# prs.save('Test.pptx')\n"
   ]
  },
  {
   "cell_type": "markdown",
   "id": "4d7c64c7",
   "metadata": {},
   "source": [
    "Add textbox to blank slide"
   ]
  },
  {
   "cell_type": "code",
   "execution_count": 16,
   "id": "1e1eb325",
   "metadata": {},
   "outputs": [],
   "source": [
    "left = Inches(1)\n",
    "top = Inches(2)\n",
    "width = Inches(1)\n",
    "height = Inches(1)\n",
    "txBox = slide.shapes.add_textbox(left, top, width, height)\n",
    "tf = txBox.text_frame\n",
    "\n",
    "\n",
    "tf.text = \"This is text inside a textbox\"\n",
    "\n",
    "p = tf.add_paragraph()\n",
    "p.text = \"This is a second paragraph that's bold\"\n",
    "p.font.bold = True\n",
    "\n",
    "\n",
    "p = tf.add_paragraph()\n",
    "p.text = \"This is a third paragraph that's big\"\n",
    "p.font.size = Pt(40)\n",
    "\n",
    "\n",
    "\n",
    "\n"
   ]
  },
  {
   "cell_type": "markdown",
   "id": "e595ce8d",
   "metadata": {},
   "source": [
    "Get Totals from df2"
   ]
  },
  {
   "cell_type": "code",
   "execution_count": 18,
   "id": "a107e4a9",
   "metadata": {},
   "outputs": [],
   "source": [
    "april = dt.date(2022,4,1)\n",
    "april_df = df2.loc[ df2.dates==april]\n",
    "m_total = april_df.loc[april_df.field=='1','Total']\n",
    "f_total = april_df.loc[april_df.field=='2','Total']"
   ]
  },
  {
   "cell_type": "code",
   "execution_count": 20,
   "id": "5ae1bf6a",
   "metadata": {},
   "outputs": [],
   "source": [
    "# Lets add a query to this, maybe move the queries to the beginning of the jupyter notebook\n",
    "rows = 2\n",
    "cols = 2\n",
    "left = Inches(1.0)\n",
    "top = Inches(3.5)\n",
    "width = Inches(6.0)\n",
    "height = Inches(0.8)\n",
    "\n",
    "table = slide.shapes.add_table(rows, cols, left, top, width, height).table\n",
    "\n",
    "# set column widths\n",
    "table.columns[0].width = Inches(2.0)\n",
    "table.columns[1].width = Inches(4.0)\n",
    "\n",
    "# write column headings\n",
    "table.cell(0, 0).text = 'Male'\n",
    "table.cell(0, 1).text = 'Female'\n",
    "\n",
    "# write body cells\n",
    "table.cell(1, 0).text = str(m_total[15])+'%'\n",
    "table.cell(1, 1).text = str(f_total[14])+'%'\n",
    "\n",
    "#prs.save('Test.pptx')"
   ]
  },
  {
   "cell_type": "markdown",
   "id": "a00ce5e0",
   "metadata": {},
   "source": [
    "Add shape to slide\n",
    "https://python-pptx.readthedocs.io/en/latest/api/enum/MsoAutoShapeType.html#msoautoshapetype"
   ]
  },
  {
   "cell_type": "code",
   "execution_count": 21,
   "id": "977475b8",
   "metadata": {},
   "outputs": [],
   "source": [
    "left = Inches(1)  # 0.93\" centers this overall set of shapes\n",
    "top = Inches(4.5)\n",
    "width = Inches(1.75)\n",
    "height = Inches(1.0)\n",
    "\n",
    "# shape = slide.shapes.add_shape( MSO_SHAPE.CHEVRON, left, top, width, height)\n",
    "# shape.text = 'Step 1'\n",
    "for n in range(0, 6):\n",
    "    shape = slide.shapes.add_shape( MSO_SHAPE.CHEVRON, left, top, width, height)\n",
    "    shape.text = 'Step %d' % n\n",
    "    left = left + width - Inches(0.4)\n",
    "\n",
    "#prs.save('Test.pptx')"
   ]
  },
  {
   "cell_type": "markdown",
   "id": "c7857a15",
   "metadata": {},
   "source": [
    "# Example 1 Bar Chart\n"
   ]
  },
  {
   "cell_type": "markdown",
   "id": "b6364882",
   "metadata": {},
   "source": [
    "Create lists for Categories and Totals"
   ]
  },
  {
   "cell_type": "code",
   "execution_count": 23,
   "id": "a6e382b7",
   "metadata": {},
   "outputs": [],
   "source": [
    "# population cat\n",
    "pop_list=[]\n",
    "for i in df['Population']:\n",
    "    pop_list.append(i)\n",
    "#totals cat\n",
    "total_list=[]\n",
    "for i in df['Total']:\n",
    "    total_list.append(int(i))"
   ]
  },
  {
   "cell_type": "markdown",
   "id": "ab5e18e5",
   "metadata": {},
   "source": [
    "Bar chart example\n",
    "https://python-pptx.readthedocs.io/en/latest/user/charts.html"
   ]
  },
  {
   "cell_type": "code",
   "execution_count": 25,
   "id": "a221052a",
   "metadata": {},
   "outputs": [
    {
     "data": {
      "text/plain": [
       "<pptx.shapes.graphfrm.GraphicFrame at 0x112eb6a0130>"
      ]
     },
     "execution_count": 25,
     "metadata": {},
     "output_type": "execute_result"
    }
   ],
   "source": [
    "slide1 = prs.slides.add_slide(prs.slide_layouts[5])\n",
    "\n",
    "# add title\n",
    "title1 = slide1.shapes.title\n",
    "title1.text = \"Example Chart 1\"\n",
    "\n",
    "# define chart data ---------------------\n",
    "chart_data = CategoryChartData()\n",
    "chart_data.categories = pop_list\n",
    "chart_data.add_series('Types by Population', total_list)\n",
    "\n",
    "# add chart to slide -------------------- \n",
    "x = Inches(2)\n",
    "y = Inches(2)\n",
    "top = Inches(6)\n",
    "left = Inches(4)\n",
    "slide1.shapes.add_chart(\n",
    "    XL_CHART_TYPE.COLUMN_CLUSTERED, x, y, top, left, chart_data\n",
    ")"
   ]
  },
  {
   "cell_type": "markdown",
   "id": "f0ce004f",
   "metadata": {},
   "source": [
    "# Example 2 Line Chart and Titles"
   ]
  },
  {
   "cell_type": "markdown",
   "id": "dd0d9a46",
   "metadata": {},
   "source": [
    "Get month names"
   ]
  },
  {
   "cell_type": "code",
   "execution_count": 27,
   "id": "a8a9a901",
   "metadata": {
    "scrolled": true
   },
   "outputs": [
    {
     "data": {
      "text/plain": [
       "['September',\n",
       " 'October',\n",
       " 'November',\n",
       " 'December',\n",
       " 'January',\n",
       " 'February',\n",
       " 'March',\n",
       " 'April']"
      ]
     },
     "execution_count": 27,
     "metadata": {},
     "output_type": "execute_result"
    }
   ],
   "source": [
    "# https://www.studytonight.com/python-howtos/how-to-get-month-name-from-month-number-in-python#:~:text=name%20is%20returned.-,dt.,in%20the%20given%20series%20object.\n",
    "dt_init = df2['dates']\n",
    "dates = pd.to_datetime(dt_init)\n",
    "dates = dates.dt.month_name(locale='English')\n",
    "date_final =dates.unique() # get unique values\n",
    "# create list of months\n",
    "month_list=[]\n",
    "for i in date_final:\n",
    "    month_list.append(i)\n",
    "#month_list= list(set(month_list))\n",
    "#month_list.sort()\n",
    "month_list"
   ]
  },
  {
   "cell_type": "markdown",
   "id": "2dc5fec3",
   "metadata": {},
   "source": [
    "Get totals for fields"
   ]
  },
  {
   "cell_type": "code",
   "execution_count": 28,
   "id": "98af42a0",
   "metadata": {},
   "outputs": [],
   "source": [
    "# probably a more efficient way to do this out there\n",
    "m_list = []\n",
    "for i in df2.loc[df2.field=='1','Total']:\n",
    "    m_list.append(i)\n",
    "f_list = []\n",
    "for i in df2.loc[df2.field=='2','Total']:\n",
    "    f_list.append(i)    \n"
   ]
  },
  {
   "cell_type": "code",
   "execution_count": 29,
   "id": "52d3b186",
   "metadata": {},
   "outputs": [
    {
     "name": "stdout",
     "output_type": "stream",
     "text": [
      "[81.48, 82.01, 81.97, 82.13, 82.05, 80.51, 82.35, 82.35]\n",
      "[83.44, 83.96, 83.89, 83.86, 83.85, 82.18, 84.19, 84.12]\n"
     ]
    }
   ],
   "source": [
    "print(m_list)\n",
    "print(f_list)"
   ]
  },
  {
   "cell_type": "markdown",
   "id": "e51755fd",
   "metadata": {},
   "source": [
    "Create line graph"
   ]
  },
  {
   "cell_type": "code",
   "execution_count": 30,
   "id": "ccdae239",
   "metadata": {},
   "outputs": [],
   "source": [
    "\n",
    "slide2 = prs.slides.add_slide(prs.slide_layouts[5]) # some layouts do not have text boxes, etc\n",
    "\n",
    "chart_data2 = ChartData()\n",
    "chart_data2.categories = month_list\n",
    "chart_data2.add_series('M',m_list)\n",
    "chart_data2.add_series('F',f_list)\n",
    "x, y, cx, cy = Inches(1), Inches(2), Inches(8), Inches(4)\n",
    "chart2 = slide2.shapes.add_chart(\n",
    "    XL_CHART_TYPE.LINE, x, y, cx, cy, chart_data2\n",
    ").chart\n"
   ]
  },
  {
   "cell_type": "markdown",
   "id": "7397544c",
   "metadata": {},
   "source": [
    "Apply formatting"
   ]
  },
  {
   "cell_type": "code",
   "execution_count": 31,
   "id": "22271d37",
   "metadata": {},
   "outputs": [],
   "source": [
    "# https://stackoverflow.com/questions/44659659/how-to-give-chart-title-to-a-chart-in-python-pptx-chart-in-chart-areanot-the-sl\n",
    "#https://stackoverflow.com/questions/62078403/how-to-add-xaxis-and-yaxis-label-with-python-pptx\n",
    "\n",
    "#add slide title\n",
    "chart2.chart_title.text_frame.text='Rates'\n",
    "\n",
    "# add legend\n",
    "chart2.has_legend = True\n",
    "chart2.legend.include_in_layout = False\n",
    "\n",
    "# add chart title\n",
    "chart2.chart_title.has_text_frame=True\n",
    "slide2.shapes.title.text = 'Example Chart 2'\n",
    "\n",
    "# add value axis title\n",
    "chart2.value_axis.has_text_frame = True\n",
    "chart2.value_axis.axis_title.text_frame.text = '% of Pop'\n",
    "\n",
    "#add category axis title\n",
    "chart2.category_axis.has_text_frame = True\n",
    "chart2.category_axis.axis_title.text_frame.text = 'Month'\n",
    "\n",
    "# format the lines\n",
    "chart2.series[0].smooth = True\n",
    "chart2.series[1].smooth = True"
   ]
  },
  {
   "cell_type": "markdown",
   "id": "da939542",
   "metadata": {},
   "source": [
    "Save"
   ]
  },
  {
   "cell_type": "code",
   "execution_count": 32,
   "id": "716ca08c",
   "metadata": {},
   "outputs": [],
   "source": [
    "prs.save('Test.pptx')\n"
   ]
  }
 ],
 "metadata": {
  "kernelspec": {
   "display_name": "Python 3 (ipykernel)",
   "language": "python",
   "name": "python3"
  },
  "language_info": {
   "codemirror_mode": {
    "name": "ipython",
    "version": 3
   },
   "file_extension": ".py",
   "mimetype": "text/x-python",
   "name": "python",
   "nbconvert_exporter": "python",
   "pygments_lexer": "ipython3",
   "version": "3.9.7"
  }
 },
 "nbformat": 4,
 "nbformat_minor": 5
}

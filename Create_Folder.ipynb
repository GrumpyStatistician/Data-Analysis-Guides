{
 "cells": [
  {
   "cell_type": "markdown",
   "id": "5c341cbf",
   "metadata": {},
   "source": [
    "# Create Folder\n",
    "\n",
    "This code is useful for organizing recurring reporting"
   ]
  },
  {
   "cell_type": "markdown",
   "id": "562526c5",
   "metadata": {},
   "source": [
    "# Import datetime and os"
   ]
  },
  {
   "cell_type": "code",
   "execution_count": 6,
   "id": "536560ce",
   "metadata": {},
   "outputs": [],
   "source": [
    "import datetime\n",
    "import os"
   ]
  },
  {
   "cell_type": "markdown",
   "id": "9e447e07",
   "metadata": {},
   "source": [
    "# Set working directory\n",
    "This is the folder you will be working out of"
   ]
  },
  {
   "cell_type": "code",
   "execution_count": 4,
   "id": "5e89e6f2",
   "metadata": {},
   "outputs": [],
   "source": [
    "# Update this to whatever folder you will be working out of\n",
    "work_dir = r'C:\\Users\\grumpy_statistician\\Desktop\\Attach_Example'\n"
   ]
  },
  {
   "cell_type": "markdown",
   "id": "fe6f8279",
   "metadata": {},
   "source": [
    "# Define datetime variables"
   ]
  },
  {
   "cell_type": "code",
   "execution_count": 5,
   "id": "a9d80230",
   "metadata": {},
   "outputs": [],
   "source": [
    "# Time now\n",
    "now = datetime.datetime.now()\n",
    "\n",
    "# Get previous Month Name\n",
    "month_name = now.strftime(\"%B\")\n",
    "\n",
    "# Abbreviate Month (really just to match TABCMD naming convention)\n",
    "month_short = month_name[:3]\n",
    "\n",
    "year = now.year"
   ]
  },
  {
   "cell_type": "markdown",
   "id": "d0adea32",
   "metadata": {},
   "source": [
    "# Create folder or print error if folder already exists"
   ]
  },
  {
   "cell_type": "code",
   "execution_count": null,
   "id": "40feb60b",
   "metadata": {},
   "outputs": [],
   "source": [
    "# join to main path\n",
    "path = os.path.join(work_dir, work_folder)\n",
    "\n",
    "# create folder\n",
    "try:\n",
    "    os.mkdir(path)\n",
    "except OSError as error:\n",
    "    print(error)"
   ]
  }
 ],
 "metadata": {
  "kernelspec": {
   "display_name": "Python 3 (ipykernel)",
   "language": "python",
   "name": "python3"
  },
  "language_info": {
   "codemirror_mode": {
    "name": "ipython",
    "version": 3
   },
   "file_extension": ".py",
   "mimetype": "text/x-python",
   "name": "python",
   "nbconvert_exporter": "python",
   "pygments_lexer": "ipython3",
   "version": "3.9.7"
  }
 },
 "nbformat": 4,
 "nbformat_minor": 5
}

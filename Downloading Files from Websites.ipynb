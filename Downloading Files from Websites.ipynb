{
 "cells": [
  {
   "cell_type": "markdown",
   "id": "a41c9e90",
   "metadata": {},
   "source": [
    "# Downloading Files from Websites\n",
    "\n",
    "Following is an example of downloading Excel files from the DSHS website for use with Covid Reporting. \n",
    "To see how this is formatted for use with reporting, refer to the DSHS.py "
   ]
  },
  {
   "cell_type": "code",
   "execution_count": 1,
   "id": "165df29a",
   "metadata": {},
   "outputs": [],
   "source": [
    "import teradata\n",
    "import getpass\n",
    "import urllib.request\n",
    "import os\n",
    "import pandas as pd"
   ]
  },
  {
   "cell_type": "markdown",
   "id": "1be20c1d",
   "metadata": {},
   "source": [
    "# Provide URL of files\n",
    "\n",
    "It's not necessary to make a dictionary; however, I wanted use the variable name to name the files in a loop.\n",
    "<p>Example without dictionary or loop:\n",
    "<br>urllib.request.urlretrieve('https://dshs.texas.gov/coronavirus/TexasCOVID19CaseCountData.xlsx', 'case.xlsx') </br>"
   ]
  },
  {
   "cell_type": "code",
   "execution_count": 6,
   "id": "ffa29585",
   "metadata": {},
   "outputs": [],
   "source": [
    "# Create dictionary of file urls\n",
    "files = {\n",
    "'case' : 'https://dshs.texas.gov/coronavirus/TexasCOVID19CaseCountData.xlsx',\n",
    "'demo' : 'https://www.dshs.texas.gov/coronavirus/TexasCOVID19Demographics.xlsx',\n",
    "'vac' : 'https://www.dshs.texas.gov/immunize/covid19/COVID-19-Vaccine-Data-by-County.xls',\n",
    "'county' : 'https://www.dshs.texas.gov/coronavirus/TexasCOVID19DailyCountyCaseCountData.xlsx'\n",
    "}"
   ]
  },
  {
   "cell_type": "code",
   "execution_count": 7,
   "id": "eae41d56",
   "metadata": {},
   "outputs": [
    {
     "name": "stdout",
     "output_type": "stream",
     "text": [
      "Retrieving files...\n"
     ]
    }
   ],
   "source": [
    "# Retrieve files\n",
    "for name in files:\n",
    "    urllib.request.urlretrieve(files[name],name+'.xlsx') "
   ]
  },
  {
   "cell_type": "markdown",
   "id": "5d1e42d6",
   "metadata": {},
   "source": [
    "# Print Results"
   ]
  },
  {
   "cell_type": "code",
   "execution_count": 12,
   "id": "9ef837de",
   "metadata": {},
   "outputs": [
    {
     "name": "stdout",
     "output_type": "stream",
     "text": [
      "  COVID-19 Cumulative Cases and Fatalities by County 03/06/2020 to 07/05/2022  \\\n",
      "0                                             County                            \n",
      "1                                           Anderson                            \n",
      "2                                            Andrews                            \n",
      "3                                           Angelina                            \n",
      "4                                            Aransas                            \n",
      "\n",
      "        Unnamed: 1      Unnamed: 2  Unnamed: 3  \n",
      "0  Confirmed Cases  Probable Cases  Fatalities  \n",
      "1             6827            3010         240  \n",
      "2             3504             436          72  \n",
      "3             9161            6573         484  \n",
      "4             3457            1039          87  \n",
      "  COVID-19 Fatality Demographics, by Age Group by Month, 03/07/2020 to 01/31/2022  \\\n",
      "0  DISCLAIMER: All data are provisional and are s...                                \n",
      "1                                                NaN                                \n",
      "2                                         Month Year                                \n",
      "3                                         March 2020                                \n",
      "4                                         April 2020                                \n",
      "\n",
      "  Unnamed: 1 Unnamed: 2 Unnamed: 3 Unnamed: 4 Unnamed: 5 Unnamed: 6  \\\n",
      "0        NaN        NaN        NaN        NaN        NaN        NaN   \n",
      "1  Age Group        NaN        NaN        NaN        NaN        NaN   \n",
      "2         <1        1-9      10-19      20-29      30-39      40-49   \n",
      "3          0          0          0          2          1         10   \n",
      "4          1          0          2          6         21         41   \n",
      "\n",
      "  Unnamed: 7 Unnamed: 8 Unnamed: 9 Unnamed: 10 Unnamed: 11  \n",
      "0        NaN        NaN        NaN         NaN         NaN  \n",
      "1        NaN        NaN        NaN         NaN         NaN  \n",
      "2      50-59      60-69      70-79         80+       Total  \n",
      "3          9         22         25          32         101  \n",
      "4         88        182        203         350         894  \n",
      "  COVID-19 Vaccine in Texas-Notes about the Data                                                                                                                                                                          \\n  \\\n",
      "0                   This worksheet is current as of                                                                                                                                                                            \n",
      "1                                    Data Dictionary                                                                                                                                                                           \n",
      "2                              Total Doses Allocated                                                                                                                                                                           \n",
      "3                         Vaccine Doses Administered                                                                                                                                                                           \n",
      "4           People Vaccinated with at least One Dose                                                                                                                                                                           \n",
      "\n",
      "  The public dashboard is updated by 4:00 pm each day with data as of 11:59 pm the previous night. For inquiries about the data, email COVIDVaccineQs@dshs.texas.gov. For more information about the Texas Immunization Registry, ImmTrac2, please visit https://www.dshs.texas.gov/immunize/immtrac/default.shtm.  \n",
      "0                                2022-07-05 00:00:00                                                                                                                                                                                                                                                                \n",
      "1  *Other-recipient's county of residence is unkn...                                                                                                                                                                                                                                                                \n",
      "2  Total number of doses allocated to COVID-19 pr...                                                                                                                                                                                                                                                                \n",
      "3  The number of vaccine doses administered, numb...                                                                                                                                                                                                                                                                \n",
      "4  Number of people vaccinated with one dose is d...                                                                                                                                                                                                                                                                \n",
      "  COVID-19 Cumulative Confirmed Cases by County, 03/06/2020 to 12/31/2020  \\\n",
      "0  Final 2020 Texas COVID-19 case data reported t...                        \n",
      "1                                             County                        \n",
      "2                                           Anderson                        \n",
      "3                                            Andrews                        \n",
      "4                                           Angelina                        \n",
      "\n",
      "   Unnamed: 1  Unnamed: 2  Unnamed: 3  Unnamed: 4  Unnamed: 5  Unnamed: 6  \\\n",
      "0         NaN         NaN         NaN         NaN         NaN         NaN   \n",
      "1  03/06/2020  03/07/2020  03/08/2020  03/09/2020  03/10/2020  03/11/2020   \n",
      "2           0           0           0           0           0           0   \n",
      "3           0           0           0           0           0           0   \n",
      "4           0           0           0           0           0           0   \n",
      "\n",
      "   Unnamed: 7  Unnamed: 8  Unnamed: 9  ... Unnamed: 294 Unnamed: 295  \\\n",
      "0         NaN         NaN         NaN  ...          NaN          NaN   \n",
      "1  03/12/2020  03/13/2020  03/14/2020  ...   12/24/2020   12/25/2020   \n",
      "2           0           0           0  ...         3740         3782   \n",
      "3           0           0           0  ...          816          822   \n",
      "4           0           0           0  ...         3408         3578   \n",
      "\n",
      "  Unnamed: 296 Unnamed: 297 Unnamed: 298 Unnamed: 299 Unnamed: 300  \\\n",
      "0          NaN          NaN          NaN          NaN          NaN   \n",
      "1   12/26/2020   12/27/2020   12/28/2020   12/29/2020   12/30/2020   \n",
      "2         3791         3791         3879         3911         3951   \n",
      "3          830          830          830          832          837   \n",
      "4         3600         3600         3617         3670         3710   \n",
      "\n",
      "  Unnamed: 301  Unnamed: 302 Unnamed: 303  \n",
      "0          NaN           NaN          NaN  \n",
      "1   12/31/2020  Unknown Date   2020 Total  \n",
      "2         3971           159         4130  \n",
      "3          838            15          853  \n",
      "4         3802           166         3968  \n",
      "\n",
      "[5 rows x 304 columns]\n"
     ]
    }
   ],
   "source": [
    "# Print first few rows to verify it worked\n",
    "for i in files:\n",
    "    df = pd.read_excel(i+'.xlsx')\n",
    "    print(df.head())\n",
    "    \n",
    "    "
   ]
  }
 ],
 "metadata": {
  "kernelspec": {
   "display_name": "Python 3 (ipykernel)",
   "language": "python",
   "name": "python3"
  },
  "language_info": {
   "codemirror_mode": {
    "name": "ipython",
    "version": 3
   },
   "file_extension": ".py",
   "mimetype": "text/x-python",
   "name": "python",
   "nbconvert_exporter": "python",
   "pygments_lexer": "ipython3",
   "version": "3.9.7"
  }
 },
 "nbformat": 4,
 "nbformat_minor": 5
}

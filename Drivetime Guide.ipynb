{
 "cells": [
  {
   "cell_type": "markdown",
   "id": "0bdfdaeb",
   "metadata": {},
   "source": [
    "# Calculating Drivetimes using  OpenRouteService"
   ]
  },
  {
   "cell_type": "markdown",
   "id": "1e343a6d",
   "metadata": {},
   "source": [
    "## Import Required Libraries and Set Working Directory"
   ]
  },
  {
   "cell_type": "code",
   "execution_count": 1,
   "id": "eb0745da",
   "metadata": {},
   "outputs": [],
   "source": [
    "import openrouteservice\n",
    "import os \n",
    "import getpass\n",
    "import pandas as pd \n",
    "import time\n",
    "import logging # getting annoying logging message when creating table, turning it off \n",
    "logging.getLogger().setLevel(logging.CRITICAL)\n",
    "\n",
    "import warnings\n",
    "warnings.filterwarnings('ignore')\n"
   ]
  },
  {
   "cell_type": "code",
   "execution_count": 2,
   "id": "8059432c",
   "metadata": {},
   "outputs": [],
   "source": [
    "#sign up and request free api key from https://openrouteservice.org/"
   ]
  },
  {
   "cell_type": "markdown",
   "id": "af7a0fd2",
   "metadata": {},
   "source": [
    "## Import Addresses to Dataframe"
   ]
  },
  {
   "cell_type": "markdown",
   "id": "64afe3a0",
   "metadata": {},
   "source": [
    "Read to DF"
   ]
  },
  {
   "cell_type": "code",
   "execution_count": 10,
   "id": "f6396757",
   "metadata": {},
   "outputs": [],
   "source": [
    "df = pd.read_excel('Test_Data1.xlsx',keep_default_na=False)"
   ]
  },
  {
   "cell_type": "markdown",
   "id": "1cc2607b",
   "metadata": {},
   "source": [
    "## Connect to Openrouteservice and Run \n",
    "For more information on openrouteservice and how to get an API Key refer to Readme\n",
    "Connect using API Key"
   ]
  },
  {
   "cell_type": "code",
   "execution_count": null,
   "id": "141d959d",
   "metadata": {},
   "outputs": [],
   "source": [
    "client = openrouteservice.Client(key='YOURAPIKEYHERE')"
   ]
  },
  {
   "cell_type": "markdown",
   "id": "de8d56c4",
   "metadata": {},
   "source": [
    "Openrouteservice has a 24 hour limit of 2k requests, so if we have more than 2k rows, we'll need to flag them. If this is the second pass at the DF, we want to skip adding these columns, so we don't overwrite them."
   ]
  },
  {
   "cell_type": "code",
   "execution_count": null,
   "id": "c0adc376",
   "metadata": {},
   "outputs": [],
   "source": [
    "if 'Complete' not in df.columns:\n",
    "    df['Complete'] = 0 \n",
    "if 'Time' not in df.columns:\n",
    "    df['Time'] = 0 "
   ]
  },
  {
   "cell_type": "markdown",
   "id": "d5bb96e1",
   "metadata": {},
   "source": [
    "## Pass lat and longs through Openrouteservice using client.direction() to retrieve drivetime in seconds.\n",
    "May want to cod in skips for NULL lat, longs as each pass will count as a request. The following code passes through each row of the dataframe and runs client.direction() if the row is not complete. If an error related to quota or rate limits is retrieved, the loop exits, and if NULL or invalid coordinates are passed to the API, the loop will skip. \n",
    "\n",
    "The below example was utilizing a second pass through after a 24hr limit, so first 2k rows are skipped.\n",
    "\n",
    "Note: This is just my n00b method of doing this, I'm sure there are different or more streamlined approaches that can be utilized."
   ]
  },
  {
   "cell_type": "code",
   "execution_count": 12,
   "id": "4edf4c83",
   "metadata": {},
   "outputs": [
    {
     "name": "stdout",
     "output_type": "stream",
     "text": [
      "Skipping...1999\n",
      "Added...2000\n",
      "Added...2001\n",
      "Added...2002\n",
      "Added...2003\n",
      "Invalid coordinates...2004\n",
      "Added...2005\n",
      "Added...2006\n",
      "Added...2007\n",
      "Added...2008\n",
      "Added...2009\n",
      "Added...2010\n",
      "Added...2011\n",
      "Added...2012\n",
      "Added...2013\n",
      "Added...2014\n",
      "Added...2015\n",
      "Added...2016\n",
      "Added...2017\n",
      "Invalid coordinates...2018\n",
      "Added...2019\n",
      "Added...2020\n",
      "Invalid coordinates...2021\n",
      "Added...2022\n",
      "Invalid coordinates...2023\n",
      "Added...2024\n",
      "Added...2025\n",
      "Added...2026\n",
      "Added...2027\n",
      "Added...2028\n",
      "Added...2029\n",
      "Added...2030\n",
      "Added...2031\n",
      "Added...2032\n",
      "Added...2033\n",
      "Added...2034\n",
      "Added...2035\n",
      "Added...2036\n",
      "Invalid coordinates...2037\n",
      "Invalid coordinates...2038\n",
      "Invalid coordinates...2039\n",
      "Added...2040\n",
      "Added...2041\n",
      "Invalid coordinates...2042\n",
      "Added...2043\n",
      "Added...2044\n",
      "Added...2045\n",
      "Added...2046\n",
      "Added...2047\n",
      "Invalid coordinates...2048\n",
      "Added...2049\n",
      "Added...2050\n",
      "Note: Deleted all print outputs before row 1999 and after row 2050 (took up too many lines in guide, this is just to show that the loop handles results)\n"
     ]
    }
   ],
   "source": [
    "for i, row in df.iterrows():\n",
    "    try:\n",
    "        if row['Complete']==1:\n",
    "            print(f'Skipping...{i}') \n",
    "        if row['Complete']==0:\n",
    "            coords = ((row['fnl_long'],row['fnl_lat']),(row['long'],row['lat']))\n",
    "            res = client.directions(coords)\n",
    "            secs = res['routes'][0]['summary']['duration']\n",
    "            time.sleep(1.6) # max is 40 requests per minute..so 1.5 would be max\n",
    "            df['Time'][i]=secs\n",
    "            df['Complete'][i]=1\n",
    "            print(f'Added...{i}')\n",
    "    except Exception as e:\n",
    "        result = str(e)\n",
    "        # 403 ({'error': 'Quota exceeded'})\n",
    "        # 429 ({'error': 'Rate limit exceeded'})\n",
    "        if (result[slice(0,3)]=='403') or (result[slice(0,3)]=='429'):\n",
    "            print('Query limit reached...')\n",
    "            break\n",
    "        else:\n",
    "            print(f'Invalid coordinates...{i}') \n",
    "            pass\n"
   ]
  },
  {
   "cell_type": "markdown",
   "id": "fde782d0",
   "metadata": {},
   "source": [
    "## Save Results to Excel"
   ]
  },
  {
   "cell_type": "code",
   "execution_count": 13,
   "id": "27ecf0bc",
   "metadata": {},
   "outputs": [],
   "source": [
    "df.to_excel('Test_Data2.xlsx') "
   ]
  },
  {
   "cell_type": "code",
   "execution_count": null,
   "id": "9af3185a",
   "metadata": {},
   "outputs": [],
   "source": []
  }
 ],
 "metadata": {
  "kernelspec": {
   "display_name": "Python 3 (ipykernel)",
   "language": "python",
   "name": "python3"
  },
  "language_info": {
   "codemirror_mode": {
    "name": "ipython",
    "version": 3
   },
   "file_extension": ".py",
   "mimetype": "text/x-python",
   "name": "python",
   "nbconvert_exporter": "python",
   "pygments_lexer": "ipython3",
   "version": "3.9.7"
  }
 },
 "nbformat": 4,
 "nbformat_minor": 5
}

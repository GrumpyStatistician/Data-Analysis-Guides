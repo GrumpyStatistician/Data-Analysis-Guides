{
 "cells": [
  {
   "cell_type": "markdown",
   "id": "fbb90e04",
   "metadata": {},
   "source": [
    "# \"No Touch\" Reporting \n",
    "The following is a example of how SQL and Python can be leveraged to deliver reporting that requires no code changes\n",
    "\n",
    "Connect to Teradata -> Run Queries -> Create Dataframe -> Create Excel -- Send Via Email and Save Draft"
   ]
  },
  {
   "cell_type": "code",
   "execution_count": null,
   "id": "0b001535",
   "metadata": {},
   "outputs": [],
   "source": [
    "# Import libraries\n",
    "import os\n",
    "import getpass\n",
    "import teradata\n",
    "import sys\n",
    "import pandas as pd \n",
    "import logging  \n",
    "logging.getLogger().setLevel(logging.CRITICAL)\n",
    "import warnings\n",
    "warnings.filterwarnings(\"ignore\")\n",
    "from datetime import datetime\n",
    "import win32com.client as client"
   ]
  },
  {
   "cell_type": "markdown",
   "id": "6d3d1d40",
   "metadata": {},
   "source": [
    "# Define Date Variables and Set Working Directory"
   ]
  },
  {
   "cell_type": "code",
   "execution_count": null,
   "id": "6ba152c9",
   "metadata": {},
   "outputs": [],
   "source": [
    "# Get dates \n",
    "now = datetime.now()\n",
    "month_name = now.strftime(\"%b\")\n",
    "month = now.month\n",
    "year = str(datetime.now().year)\n",
    "year_abbrev = year[-2:]\n",
    "\n",
    "# Set working directory\n",
    "work_dir = '\\\\\\some_drive_name\\some_folder'\n",
    "os.chdir(work_dir)"
   ]
  },
  {
   "cell_type": "markdown",
   "id": "e6effe13",
   "metadata": {},
   "source": [
    "# Enter Login Credentials"
   ]
  },
  {
   "cell_type": "code",
   "execution_count": null,
   "id": "a36159f8",
   "metadata": {
    "scrolled": true
   },
   "outputs": [],
   "source": [
    "# Input credentials\n",
    "user = input('Enter Username: ')\n",
    "auth = input('Enter Auth type (LDAP for UID, TD2 for NPID): ')\n",
    "passw = getpass.getpass()"
   ]
  },
  {
   "cell_type": "markdown",
   "id": "31d98065",
   "metadata": {},
   "source": [
    "# Connect to Teradata"
   ]
  },
  {
   "cell_type": "code",
   "execution_count": 6,
   "id": "ded39c16",
   "metadata": {},
   "outputs": [],
   "source": [
    "# Connect\n",
    "udaExec = teradata.UdaExec(appName=\"test\", version=\"2.0\", logConsole=False)\n",
    "session = udaExec.connect(method=\"odbc\", system='',\n",
    "                          username=user, password=passw, authentication=auth,\n",
    "                          driver=\"Teradata Database ODBC Driver\")"
   ]
  },
  {
   "cell_type": "markdown",
   "id": "1d275190",
   "metadata": {},
   "source": [
    "# Run Query to Determine Quarter\n",
    "\n",
    "This is set up so that only the previous complete Quarter will return until the month the report is meant to be run.\n"
   ]
  },
  {
   "cell_type": "code",
   "execution_count": 7,
   "id": "e8230113",
   "metadata": {},
   "outputs": [
    {
     "data": {
      "text/plain": [
       "<teradata.udaexec.UdaExecCursor at 0x1368dd278e0>"
      ]
     },
     "execution_count": 7,
     "metadata": {},
     "output_type": "execute_result"
    }
   ],
   "source": [
    "# Create volatile table to get dates for each quarter\n",
    "session.execute(\n",
    "\"\"\"\n",
    "CREATE VOLATILE TABLE TMP_DT AS (\n",
    "SELECT\n",
    "Stuff\n",
    "FROM YOUR_DB.YOUR_TABLE\n",
    ") WITH DATA ON COMMIT PRESERVE ROWS;\n",
    "\"\"\"\n",
    ")\n"
   ]
  },
  {
   "cell_type": "markdown",
   "id": "ceaba87b",
   "metadata": {},
   "source": [
    "# Read in SQL and Create Dataframe"
   ]
  },
  {
   "cell_type": "code",
   "execution_count": 8,
   "id": "2f3406fe",
   "metadata": {},
   "outputs": [],
   "source": [
    "# Open script (save some space by not rewriting)\n",
    "with open ('Auto_Script.sql','r') as sql_file:\n",
    "    script = sql_file.read()"
   ]
  },
  {
   "cell_type": "code",
   "execution_count": 9,
   "id": "6bf96c17",
   "metadata": {},
   "outputs": [],
   "source": [
    "# read output\n",
    "df = pd.read_sql(script,session)\n"
   ]
  },
  {
   "cell_type": "markdown",
   "id": "1e7b1305",
   "metadata": {},
   "source": [
    "# Define Quarter and Create Excel"
   ]
  },
  {
   "cell_type": "code",
   "execution_count": 12,
   "id": "88308f27",
   "metadata": {},
   "outputs": [],
   "source": [
    "# Determine Qtr \n",
    "if 4 <= month <=6:\n",
    "    qtr='Q1'\n",
    "elif 7 <= month <=9: \n",
    "    qtr='Q2'\n",
    "elif 10 <= month <=12:\n",
    "    qtr='Q3'\n",
    "elif 1 <= month <=3:\n",
    "    qtr='Q4'"
   ]
  },
  {
   "cell_type": "code",
   "execution_count": 13,
   "id": "36752f51",
   "metadata": {},
   "outputs": [
    {
     "data": {
      "text/plain": [
       "'Q1'"
      ]
     },
     "execution_count": 13,
     "metadata": {},
     "output_type": "execute_result"
    }
   ],
   "source": [
    "qtr"
   ]
  },
  {
   "cell_type": "code",
   "execution_count": 14,
   "id": "f0123ca4",
   "metadata": {},
   "outputs": [
    {
     "name": "stdout",
     "output_type": "stream",
     "text": [
      "Creating Excel...\n"
     ]
    }
   ],
   "source": [
    "print('Creating Excel...')\n",
    "\n",
    "# Create Excel and Format\n",
    "filename=f'Stuff_file_{year}_{qtr}.xlsx'\n",
    "writer = pd.ExcelWriter(filename, engine='xlsxwriter')\n",
    "\n"
   ]
  },
  {
   "cell_type": "code",
   "execution_count": 15,
   "id": "def21ec2",
   "metadata": {},
   "outputs": [],
   "source": [
    "df.to_excel(writer, sheet_name= qtr, index=False)\n",
    "\n",
    "workbook = writer.book\n",
    "\n",
    "worksheet1 = writer.sheets[qtr]\n"
   ]
  },
  {
   "cell_type": "markdown",
   "id": "9e03f7bd",
   "metadata": {},
   "source": [
    "# Format Excel and Save"
   ]
  },
  {
   "cell_type": "code",
   "execution_count": 16,
   "id": "9a513023",
   "metadata": {},
   "outputs": [
    {
     "data": {
      "text/plain": [
       "0"
      ]
     },
     "execution_count": 16,
     "metadata": {},
     "output_type": "execute_result"
    }
   ],
   "source": [
    "# Set first row formatting\n",
    "row_all = workbook.add_format({'bold': True, 'align': 'center'})\n",
    "\n",
    "# Set Column formatting\n",
    "column_all = workbook.add_format({ 'align': 'left'})\n",
    "worksheet1.set_column('A:AR', 15, column_all)\n",
    "worksheet1.set_column('B:B', 22, column_all)\n",
    "worksheet1.set_column('D:D', 25, column_all)\n",
    "\n",
    "# Add currency format to Paid\n",
    "currency_format = workbook.add_format({'num_format': '$#,##0.00'})\n",
    "worksheet1.set_column('AE:AR', 15, currency_format)"
   ]
  },
  {
   "cell_type": "code",
   "execution_count": 17,
   "id": "0f3d75ab",
   "metadata": {
    "scrolled": true
   },
   "outputs": [
    {
     "name": "stdout",
     "output_type": "stream",
     "text": [
      "Saving...\n"
     ]
    }
   ],
   "source": [
    "print('Saving...')\n",
    "writer.save()"
   ]
  },
  {
   "cell_type": "markdown",
   "id": "c17c61ca",
   "metadata": {},
   "source": [
    "Create Email, Add Attachment, and Save Draft"
   ]
  },
  {
   "cell_type": "code",
   "execution_count": 20,
   "id": "393ffdfb",
   "metadata": {},
   "outputs": [],
   "source": [
    "outlook = client.Dispatch(\"Outlook.Application\")\n",
    "\n",
    "message = outlook.CreateItem(0)\n",
    "\n",
    "message.Display()\n",
    "\n",
    "message.To = 'grumpy_statistician@gmail.com'\n",
    "\n",
    "message.CC = 'Test; Test'\n",
    "\n",
    "message.Subject = f'Stuff{year_abbrev} {qtr}'\n",
    "\n",
    "message.HTMLBody = f'''\n",
    "\n",
    "<p style=\"font-size:15px\"> Howdily-doodily,<br><br>\n",
    "\n",
    "\n",
    "Please see attached for CY{year_abbrev} {qtr}.<br><br>\n",
    "\n",
    "\n",
    "Thanks!<br> </p>\n",
    "\n",
    "''' + message.HTMLBody"
   ]
  },
  {
   "cell_type": "code",
   "execution_count": 21,
   "id": "22fbf86b",
   "metadata": {},
   "outputs": [
    {
     "name": "stdout",
     "output_type": "stream",
     "text": [
      "Email Draft Saved\n"
     ]
    }
   ],
   "source": [
    "path_file = os.path.join(work_dir,filename)\n",
    "\n",
    "message.Attachments.Add(path_file)\n",
    "\n",
    "message.Saveas(f\"{work_dir}//{month_name}_{year}-Report_Email.msg\")\n",
    "\n",
    "print('Email Draft Saved')"
   ]
  }
 ],
 "metadata": {
  "kernelspec": {
   "display_name": "Python 3 (ipykernel)",
   "language": "python",
   "name": "python3"
  },
  "language_info": {
   "codemirror_mode": {
    "name": "ipython",
    "version": 3
   },
   "file_extension": ".py",
   "mimetype": "text/x-python",
   "name": "python",
   "nbconvert_exporter": "python",
   "pygments_lexer": "ipython3",
   "version": "3.9.7"
  }
 },
 "nbformat": 4,
 "nbformat_minor": 5
}

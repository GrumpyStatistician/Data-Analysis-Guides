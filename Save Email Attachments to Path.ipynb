{
 "cells": [
  {
   "cell_type": "code",
   "execution_count": 1,
   "id": "41df56e7",
   "metadata": {},
   "outputs": [],
   "source": [
    "# https://towardsdatascience.com/automatic-download-email-attachment-with-python-4aa59bc66c25"
   ]
  },
  {
   "cell_type": "markdown",
   "id": "45fe1035",
   "metadata": {},
   "source": [
    "# Download Attachments from Outlook"
   ]
  },
  {
   "cell_type": "code",
   "execution_count": 52,
   "id": "77ee09e4",
   "metadata": {},
   "outputs": [],
   "source": [
    "import win32com.client as client\n",
    "import re\n",
    "import datetime as dt\n",
    "import os\n",
    "\n",
    "path_folder = os.path.join(r'C:\\Users\\grumpy_statistician\\Desktop\\test') #os.chdir(wd)"
   ]
  },
  {
   "cell_type": "markdown",
   "id": "0120b09d",
   "metadata": {},
   "source": [
    "# Connect to Outlook\n",
    "Outlook application must be open to work"
   ]
  },
  {
   "cell_type": "code",
   "execution_count": 53,
   "id": "3634a3fd",
   "metadata": {},
   "outputs": [],
   "source": [
    "outlook = client.Dispatch(\"Outlook.Application\").GetNamespace(\"MAPI\")"
   ]
  },
  {
   "cell_type": "markdown",
   "id": "39af5228",
   "metadata": {},
   "source": [
    "# Access the Inbox\n",
    "To access the inbox we have to set the default folder to 6, refer to the below for each folder's index"
   ]
  },
  {
   "cell_type": "code",
   "execution_count": 54,
   "id": "6d3820e7",
   "metadata": {},
   "outputs": [
    {
     "name": "stdout",
     "output_type": "stream",
     "text": [
      "3 Deleted Items\n",
      "4 Outbox\n",
      "5 Sent Items\n",
      "6 Inbox\n",
      "9 Calendar\n",
      "10 Contacts\n",
      "11 Journal\n",
      "12 Notes\n",
      "13 Tasks\n",
      "14 Reminders\n",
      "15 Reminders\n",
      "16 Drafts\n",
      "17 Conflicts\n",
      "19 Conflicts\n",
      "20 Sync Issues\n",
      "21 Local Failures\n",
      "22 Server Failures\n",
      "23 Junk Email\n",
      "25 RSS Subscriptions\n",
      "26 Tracked Mail Processing\n",
      "28 To-Do List\n",
      "31 Quick Step Settings\n",
      "33 Contact Search\n",
      "35 {A}\n",
      "36 {0}\n",
      "37 Social Activity Notifications\n",
      "38 the file so that changes to the file will be reflected in your item.\n",
      "39 Archive\n"
     ]
    }
   ],
   "source": [
    "for i in range(50):\n",
    "  try:\n",
    "    box = outlook.GetDefaultFolder(i)\n",
    "    name = box.Name\n",
    "    print(i, name)\n",
    "  except:\n",
    "    pass"
   ]
  },
  {
   "cell_type": "code",
   "execution_count": 55,
   "id": "1c85f257",
   "metadata": {},
   "outputs": [],
   "source": [
    "# Access index of Inbox\n",
    "inbox = outlook.GetDefaultFolder(6)\n",
    "# Access emails in Inbox\n",
    "messages = inbox.Items"
   ]
  },
  {
   "cell_type": "markdown",
   "id": "0e78ba11",
   "metadata": {},
   "source": [
    "# Limit Date Range of Emails\n",
    "I only have it set to today's date, but this can be changed. Refer to the stackoverflow for explanation\n"
   ]
  },
  {
   "cell_type": "code",
   "execution_count": 56,
   "id": "e7a31e44",
   "metadata": {},
   "outputs": [],
   "source": [
    "#https://stackoverflow.com/questions/61541881/pywin32-outlook-restrict-function-stopped-working\n",
    "start_datetime= dt.datetime.now()\n",
    "message=messages.Restrict( \"[ReceivedTime] >= '\" +start_datetime.strftime(\"%m/%d/%Y\")+\"'\")\n"
   ]
  },
  {
   "cell_type": "markdown",
   "id": "131b2f94",
   "metadata": {},
   "source": [
    "# Check Messages for Today"
   ]
  },
  {
   "cell_type": "code",
   "execution_count": 57,
   "id": "395cb8c8",
   "metadata": {},
   "outputs": [
    {
     "name": "stdout",
     "output_type": "stream",
     "text": [ ]
    }
   ],
   "source": [
    "for i in message:\n",
    "    if i.Class==43:\n",
    "        print(f'Sender:{i.Sender}, Subject:{i.Subject}')\n",
    "\n",
    "    "
   ]
  },
  {
   "cell_type": "markdown",
   "id": "27ef65fd",
   "metadata": {},
   "source": [
    "# Run and Save \n",
    "Adjust the subject and sender to whatever you are looking for (can add or remove conditions based on need)\n",
    "Attachement will save to path set at the beginning of the script"
   ]
  },
  {
   "cell_type": "code",
   "execution_count": 58,
   "id": "7e5bea88",
   "metadata": {
    "scrolled": true
   },
   "outputs": [
    {
     "name": "stdout",
     "output_type": "stream",
     "text": [
      "test_file.txt\n"
     ]
    }
   ],
   "source": [
    "for i in message:\n",
    "    if i.Class == 43: #make sure it's a mailbox item\n",
    "        if str(i.Subject)=='Python Test 2' and str(i.Sender)=='Kevin Sullivan':\n",
    "            attachments = i.Attachments\n",
    "            attachment = attachments.Item(1)\n",
    "            attachment_name = str(attachment)\n",
    "            print(attachment_name)\n",
    "            attachment.SaveASFile(path_folder+'\\\\'+ attachment_name)"
   ]
  },
  {
   "cell_type": "markdown",
   "id": "74d35eb1",
   "metadata": {},
   "source": [
    "# Check that file saved to Path"
   ]
  },
  {
   "cell_type": "code",
   "execution_count": 59,
   "id": "77f73b23",
   "metadata": {},
   "outputs": [
    {
     "data": {
      "text/plain": [
       "['info.py',\n",
       " 'Python_Example.py',\n",
       " 'Python_Example.zip',\n",
       " 'Read_Me.txt',\n",
       " 'Run_Report.bat',\n",
       " 'test_file.txt']"
      ]
     },
     "execution_count": 59,
     "metadata": {},
     "output_type": "execute_result"
    }
   ],
   "source": [
    "onlyfiles = [f for f in os.listdir(path_folder) if os.path.isfile(os.path.join(path_folder, f))]\n",
    "onlyfiles"
   ]
  },
  {
   "cell_type": "markdown",
   "id": "6fec1f32",
   "metadata": {},
   "source": [
    "# Success!"
   ]
  }
 ],
 "metadata": {
  "kernelspec": {
   "display_name": "Python 3 (ipykernel)",
   "language": "python",
   "name": "python3"
  },
  "language_info": {
   "codemirror_mode": {
    "name": "ipython",
    "version": 3
   },
   "file_extension": ".py",
   "mimetype": "text/x-python",
   "name": "python",
   "nbconvert_exporter": "python",
   "pygments_lexer": "ipython3",
   "version": "3.9.7"
  }
 },
 "nbformat": 4,
 "nbformat_minor": 5
}

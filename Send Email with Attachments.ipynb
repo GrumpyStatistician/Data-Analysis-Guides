{
 "cells": [
  {
   "cell_type": "markdown",
   "id": "7e348a6f",
   "metadata": {},
   "source": [
    "# Send Email with Attachments"
   ]
  },
  {
   "cell_type": "markdown",
   "id": "3a50029b",
   "metadata": {},
   "source": [
    "# Import win32com and os\n",
    "\n",
    "Win32com - Support for COM servers written in Python. The modules in this package provide most of the underlying framework for magically turning Python classes into COM servers, exposing the correct public methods, registering your server in the registry, etc. \n",
    "http://timgolden.me.uk/pywin32-docs/html/com/win32com/HTML/package.html#:~:text=win32com.server%20package,server%20in%20the%20registry%2C%20etc."
   ]
  },
  {
   "cell_type": "code",
   "execution_count": 9,
   "id": "1796c8de",
   "metadata": {},
   "outputs": [],
   "source": [
    "import win32com.client as client #may requiring pip installing pywin32\n",
    "import os\n",
    "import datetime\n",
    "import glob\n"
   ]
  },
  {
   "cell_type": "markdown",
   "id": "1c0d9734",
   "metadata": {},
   "source": [
    "# Set working directory\n"
   ]
  },
  {
   "cell_type": "code",
   "execution_count": 10,
   "id": "3d026579",
   "metadata": {},
   "outputs": [],
   "source": [
    "work_dir=r'C:\\Users\\grumpy_statistician\\Desktop'\n",
    "\n"
   ]
  },
  {
   "cell_type": "markdown",
   "id": "3b150a72",
   "metadata": {},
   "source": [
    "# Define variables (email addresses & title)"
   ]
  },
  {
   "cell_type": "code",
   "execution_count": 11,
   "id": "c3956419",
   "metadata": {},
   "outputs": [],
   "source": [
    "sendee_name= 'grumpy_statistician@gmail.com'\n",
    "cc_name =''\n",
    "email_title = 'Test Email'"
   ]
  },
  {
   "cell_type": "markdown",
   "id": "fc61c91c",
   "metadata": {},
   "source": [
    "# Create Date Variables\n",
    "For folder and file names"
   ]
  },
  {
   "cell_type": "code",
   "execution_count": 12,
   "id": "75e389e4",
   "metadata": {},
   "outputs": [],
   "source": [
    "# Get time now\n",
    "\n",
    "now= datetime.datetime.now()\n",
    "\n",
    "# Get previous Month Name\n",
    "\n",
    "month_name = now.strftime(\"%B\")\n",
    "month_short = month_name[:3]\n",
    "\n",
    "# Get year\n",
    "\n",
    "year = now.year"
   ]
  },
  {
   "cell_type": "markdown",
   "id": "58a80a4f",
   "metadata": {},
   "source": [
    "# Update Directory to folder \n",
    "Use the month name and year to update working directory to folder created in Create_Folder.py"
   ]
  },
  {
   "cell_type": "code",
   "execution_count": 13,
   "id": "176d41f6",
   "metadata": {},
   "outputs": [],
   "source": [
    "# Set folder\n",
    "\n",
    "work_folder = f'{month_short} {year}'\n",
    "os.chdir(f'{work_dir}\\{work_folder}')\n",
    "\n",
    "# Specify filename and path to file\n",
    "\n",
    "path= os.path.join(work_dir,work_folder)\n"
   ]
  },
  {
   "cell_type": "markdown",
   "id": "8adf03c3",
   "metadata": {},
   "source": [
    "# Get all PDFs in folder\n",
    "This version collects ALL PDFs within folder, rather than the original that is referencing specific files"
   ]
  },
  {
   "cell_type": "code",
   "execution_count": 14,
   "id": "b4dcc919",
   "metadata": {},
   "outputs": [],
   "source": [
    "# Get PDF Names from folder\n",
    "\n",
    "files = [os.path.basename(x) for x in glob.glob(f'{path}/*.pdf')]\n",
    "\n"
   ]
  },
  {
   "cell_type": "markdown",
   "id": "73930b6c",
   "metadata": {},
   "source": [
    "# Launch Outlook\n",
    "Assign variables that we defined and launch outlook"
   ]
  },
  {
   "cell_type": "code",
   "execution_count": 15,
   "id": "e81c6a4e",
   "metadata": {},
   "outputs": [],
   "source": [
    "# Launch Outlook, specify sendee and subject\n",
    "\n",
    "outlook = client.Dispatch(\"Outlook.Application\")\n",
    "message = outlook.CreateItem(0)\n",
    "message.Display() \n",
    "message.To = sendee_name\n",
    "message.CC = cc_name\n",
    "message.Subject = email_title\n"
   ]
  },
  {
   "cell_type": "markdown",
   "id": "4bb7c544",
   "metadata": {},
   "source": [
    "# Add the body of your email"
   ]
  },
  {
   "cell_type": "code",
   "execution_count": 16,
   "id": "a4f57ce4",
   "metadata": {},
   "outputs": [],
   "source": [
    "message.HTMLBody = '''\n",
    "\n",
    "<p style=\"font-size:15px\"> Hi,<br><br>\n",
    "\n",
    "\n",
    "Attached is this month’s stuff. test<br><br>\n",
    "\n",
    "\n",
    "Thanks!<br> </p>\n",
    "\n",
    "'''  + message.HTMLBody \n",
    "\n",
    "# annoying reasoning behind displaying and adding + message.HTMLBody\n",
    "# https://stackoverflow.com/questions/32209091/add-signature-to-outlook-email-with-python-using-win32com"
   ]
  },
  {
   "cell_type": "markdown",
   "id": "66044729",
   "metadata": {},
   "source": [
    "# Add an attachment"
   ]
  },
  {
   "cell_type": "code",
   "execution_count": 5,
   "id": "3d0e1ca9",
   "metadata": {
    "scrolled": true
   },
   "outputs": [],
   "source": [
    "# multiple file in list example\n",
    "for i in files:\n",
    "    path_file= os.path.join(path,i)\n",
    "    message.Attachments.Add(path_file)"
   ]
  },
  {
   "cell_type": "markdown",
   "id": "be0781d1",
   "metadata": {},
   "source": [
    "# Save and/or Send"
   ]
  },
  {
   "cell_type": "code",
   "execution_count": 6,
   "id": "9cc65a44",
   "metadata": {},
   "outputs": [
    {
     "name": "stdout",
     "output_type": "stream",
     "text": [
      "Email Draft Saved\n"
     ]
    }
   ],
   "source": [
    "message.Saveas(f\"{path}//Report_Email.msg\")\n",
    "print('Email Draft Saved')\n",
    "\n",
    "message.Send()"
   ]
  },
  {
   "cell_type": "code",
   "execution_count": null,
   "id": "1c293a1e",
   "metadata": {},
   "outputs": [],
   "source": []
  }
 ],
 "metadata": {
  "kernelspec": {
   "display_name": "Python 3 (ipykernel)",
   "language": "python",
   "name": "python3"
  },
  "language_info": {
   "codemirror_mode": {
    "name": "ipython",
    "version": 3
   },
   "file_extension": ".py",
   "mimetype": "text/x-python",
   "name": "python",
   "nbconvert_exporter": "python",
   "pygments_lexer": "ipython3",
   "version": "3.9.7"
  }
 },
 "nbformat": 4,
 "nbformat_minor": 5
}

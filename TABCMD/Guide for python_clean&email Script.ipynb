{
 "cells": [
  {
   "cell_type": "markdown",
   "id": "3e68af02",
   "metadata": {},
   "source": [
    "# TABCMD and Python Report Generator Guide Continued...\n",
    "Block by block walkthrough of the python_clean&email.py file"
   ]
  },
  {
   "cell_type": "markdown",
   "id": "57f8a23a",
   "metadata": {},
   "source": [
    "# Import Required Libraries"
   ]
  },
  {
   "cell_type": "code",
   "execution_count": 49,
   "id": "86910082",
   "metadata": {},
   "outputs": [],
   "source": [
    "import win32com.client as client #requires pip installing pywin32\n",
    "import glob\n",
    "import os\n",
    "import datetime"
   ]
  },
  {
   "cell_type": "markdown",
   "id": "85d0197b",
   "metadata": {},
   "source": [
    "# Find folder with PDFs\n",
    "To locate the generated PDFs, we will add the month and year variables to the working directory"
   ]
  },
  {
   "cell_type": "code",
   "execution_count": 50,
   "id": "d61da375",
   "metadata": {},
   "outputs": [],
   "source": [
    "# Get date variables\n",
    "now = datetime.datetime.now()\n",
    "month_name = now.strftime(\"%B\")\n",
    "month_short = month_name[:3]\n",
    "year = now.year\n",
    "\n",
    "# Join to path\n",
    "work_dir = f'{month_name} {year}'\n",
    "parent_dir = os.getcwd()\n",
    "path = os.path.join(parent_dir,work_dir)\n",
    "os.chdir(path)"
   ]
  },
  {
   "cell_type": "markdown",
   "id": "040c99d0",
   "metadata": {},
   "source": [
    "# Clean Up the Filenames\n",
    "\n",
    "Since our account names were URL encoded, we need to decode the encoded characters"
   ]
  },
  {
   "cell_type": "code",
   "execution_count": 51,
   "id": "498b354f",
   "metadata": {},
   "outputs": [],
   "source": [
    "for i in glob.glob('*.pdf'):\n",
    "    os.rename(i, i.replace('%20','_'))  \n",
    "for i in glob.glob('*.pdf'):    \n",
    "    os.rename(i, i.replace('%26','&'))\n",
    "for i in glob.glob('*.pdf'): \n",
    "    os.rename(i, i.replace('%5C%2C',','))"
   ]
  },
  {
   "cell_type": "markdown",
   "id": "a0a7d2e5",
   "metadata": {},
   "source": [
    "# Get PDF Filenames\n",
    "Use glob to create list of all PDFs in folder"
   ]
  },
  {
   "cell_type": "code",
   "execution_count": 52,
   "id": "373a012e",
   "metadata": {},
   "outputs": [],
   "source": [
    "files = []\n",
    "for i in glob.glob(\"*.pdf\"):\n",
    "    files.append(i)"
   ]
  },
  {
   "cell_type": "markdown",
   "id": "d0ca443d",
   "metadata": {},
   "source": [
    "# Create Email and Fill in Sender/Sendee Info"
   ]
  },
  {
   "cell_type": "code",
   "execution_count": 53,
   "id": "7b5e7ff6",
   "metadata": {},
   "outputs": [],
   "source": [
    "outlook = client.Dispatch(\"Outlook.Application\")\n",
    "message = outlook.CreateItem(0)\n",
    "message.Display() # Only required if you want to see the email or add signature\n",
    "message.To = 'grumpy_statistician@gmail.com'\n",
    "message.CC = ''\n",
    "message.Subject = 'PDF Fun'"
   ]
  },
  {
   "cell_type": "markdown",
   "id": "af11130c",
   "metadata": {},
   "source": [
    "# Create Email Body"
   ]
  },
  {
   "cell_type": "code",
   "execution_count": 54,
   "id": "7e80badc",
   "metadata": {},
   "outputs": [],
   "source": [
    "message.HTMLBody = '''\n",
    "\n",
    "<p style=\"font-size:15px\"> Hi,<br><br>\n",
    "\n",
    "\n",
    "Attached is this month’s stuff. test<br><br>\n",
    "\n",
    "\n",
    "Thanks!<br> </p>\n",
    "\n",
    "'''  + message.HTMLBody\n"
   ]
  },
  {
   "cell_type": "markdown",
   "id": "9c680fe6",
   "metadata": {},
   "source": [
    "# Attach PDFs"
   ]
  },
  {
   "cell_type": "code",
   "execution_count": 55,
   "id": "98304974",
   "metadata": {},
   "outputs": [],
   "source": [
    "for i in files:\n",
    "    path_file= os.path.join(path,i)\n",
    "    message.Attachments.Add(path_file)"
   ]
  },
  {
   "cell_type": "markdown",
   "id": "0aa1ca56",
   "metadata": {},
   "source": [
    "# Save and Send Email"
   ]
  },
  {
   "cell_type": "code",
   "execution_count": 56,
   "id": "d37f0f13",
   "metadata": {},
   "outputs": [],
   "source": [
    "# Save \n",
    "message.Saveas(f\"{path}//Report_Email.msg\")\n",
    "\n",
    "# Send\n",
    "message.Send()"
   ]
  }
 ],
 "metadata": {
  "kernelspec": {
   "display_name": "Python 3 (ipykernel)",
   "language": "python",
   "name": "python3"
  },
  "language_info": {
   "codemirror_mode": {
    "name": "ipython",
    "version": 3
   },
   "file_extension": ".py",
   "mimetype": "text/x-python",
   "name": "python",
   "nbconvert_exporter": "python",
   "pygments_lexer": "ipython3",
   "version": "3.9.7"
  }
 },
 "nbformat": 4,
 "nbformat_minor": 5
}

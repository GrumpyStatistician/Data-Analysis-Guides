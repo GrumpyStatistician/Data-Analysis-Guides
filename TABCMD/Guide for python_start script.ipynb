{
 "cells": [
  {
   "cell_type": "markdown",
   "id": "719f6148",
   "metadata": {},
   "source": [
    "# TABCMD and Python Report Generator Guide\n",
    "Block by block walkthrough of the python_start.py file"
   ]
  },
  {
   "cell_type": "markdown",
   "id": "41a1732d",
   "metadata": {},
   "source": [
    "# Import Required Libraries"
   ]
  },
  {
   "cell_type": "code",
   "execution_count": 2,
   "id": "cf72b690",
   "metadata": {},
   "outputs": [],
   "source": [
    "import teradata\n",
    "import pandas as pd\n",
    "import os\n",
    "import datetime\n",
    "import getpass\n",
    "import glob\n",
    "import warnings\n",
    "warnings.filterwarnings(\"ignore\")\n"
   ]
  },
  {
   "cell_type": "markdown",
   "id": "1317021b",
   "metadata": {},
   "source": [
    "# Provide Selection for Example Dashboard\n",
    "This is the variable that will be utilized for the \"thing\" parameter on the example dashboard. The other two are selected via SQL Query.\n"
   ]
  },
  {
   "cell_type": "code",
   "execution_count": 3,
   "id": "26c65714",
   "metadata": {},
   "outputs": [],
   "source": [
    "thing='thing start'\n",
    "thing_str = thing.replace(' ', '%20')"
   ]
  },
  {
   "cell_type": "markdown",
   "id": "21c5beaf",
   "metadata": {},
   "source": [
    "# Enter Credentials for Teradata and Tableau Login\n",
    "This is optional and can be either embedded or called by storing environment variables"
   ]
  },
  {
   "cell_type": "code",
   "execution_count": 4,
   "id": "b2ea2cfd",
   "metadata": {
    "scrolled": false
   },
   "outputs": [
    {
     "name": "stdout",
     "output_type": "stream",
     "text": [
      "Enter Username: grumpy_statistician\n",
      "Enter Pass: ········\n",
      "Ether Auth Type (TD2/LDAP): TD2\n"
     ]
    }
   ],
   "source": [
    "user= input('Enter Username: ')\n",
    "passw = getpass.getpass('Enter Pass: ')\n",
    "auth = input('Ether Auth Type (TD2/LDAP): ')"
   ]
  },
  {
   "cell_type": "markdown",
   "id": "73b230a2",
   "metadata": {},
   "source": [
    "# Connect to Teradata"
   ]
  },
  {
   "cell_type": "code",
   "execution_count": 10,
   "id": "c69adc38",
   "metadata": {},
   "outputs": [],
   "source": [
    "udaExec = teradata.UdaExec(appName=\"test\", version=\"2.0\", logConsole=False)\n",
    "session = udaExec.connect(method=\"odbc\", system='server_name',\n",
    "                          username=user, password=passw, authentication=auth,\n",
    "                          driver=\"Teradata Database ODBC Driver\")"
   ]
  },
  {
   "cell_type": "markdown",
   "id": "f10a052d",
   "metadata": {},
   "source": [
    "# Get Eom_dt for Reporting Period Filter"
   ]
  },
  {
   "cell_type": "code",
   "execution_count": 11,
   "id": "54e51f7d",
   "metadata": {},
   "outputs": [],
   "source": [
    "eom_df = pd.read_sql(\"\"\"\n",
    "SELECT\n",
    "date_thing\n",
    "FROM YOUR_DB.YOUR_TABLE;\n",
    "\"\"\",session)\n",
    "eom_list = list(eom_df.eom_dt)\n",
    "eom_str = ''.join(eom_list)"
   ]
  },
  {
   "cell_type": "markdown",
   "id": "d18b7e68",
   "metadata": {},
   "source": [
    "# Get Account Names for Account Name Filter\n",
    "I selected four things for this example. I trimmed, replaced spaces with %20, and added double quotes for each account.\n",
    "All spaces and special characters must be handled prior to sending to TABCMD as they are required to be URL encoded to function properly. \n",
    "<p>To avoid this issue in the future, I would suggest using the thing number field as a filter, rather than the name as it requires no special characters and the characters will not change.</p>"
   ]
  },
  {
   "cell_type": "code",
   "execution_count": 12,
   "id": "be1a32f7",
   "metadata": {},
   "outputs": [],
   "source": [
    "acct_df = pd.read_sql(\"\"\"\n",
    "SELECT  \n",
    "'\"'||oreplace(trim(THING_NM),' ','%20')||'\"' as Thing_Names\n",
    "FROM YOUR_DB.YOUR_TABLE\n",
    "GROUP BY 1\n",
    "\"\"\",session)"
   ]
  },
  {
   "cell_type": "markdown",
   "id": "ce1101e8",
   "metadata": {},
   "source": [
    "# Handle Additional Special Characters for URL Encoding"
   ]
  },
  {
   "cell_type": "code",
   "execution_count": 19,
   "id": "a11d9d74",
   "metadata": {},
   "outputs": [],
   "source": [
    "acct_list = list(acct_df.Account_Names)"
   ]
  },
  {
   "cell_type": "code",
   "execution_count": 20,
   "id": "bfeb66b4",
   "metadata": {},
   "outputs": [],
   "source": [
    "#https://www.geeksforgeeks.org/python-replace-substrings-from-string-list/\n",
    "replace_dict = {',':'%5C%2C','&':'%26'} #handle special chars\n",
    "\n",
    "for key, val in replace_dict.items():\n",
    "    for idx, ele in enumerate(acct_list):\n",
    "        if key in ele:\n",
    "            thing_list[idx] = ele.replace(key,val)\n",
    "            \n",
    "thing2_str=' '.join(thing_list) # use space as delimiter"
   ]
  },
  {
   "cell_type": "markdown",
   "id": "c263927a",
   "metadata": {},
   "source": [
    "# Store Variables for Use in the TABCMD Batch Script\n",
    "Now that we have the variables required for each filter, we need to send them our TABCMD script. We will then call them to use for Tableau login and to feed our URL links."
   ]
  },
  {
   "cell_type": "code",
   "execution_count": 21,
   "id": "1e8ef011",
   "metadata": {},
   "outputs": [],
   "source": [
    "os.putenv(\"user\",user)\n",
    "os.putenv(\"eom_dt\", eom_str)\n",
    "os.putenv(\"passw\", passw)\n",
    "os.putenv(\"thing2\", thing2_str)\n",
    "os.putenv(\"thing1\", thing1_str)"
   ]
  },
  {
   "cell_type": "markdown",
   "id": "beb1f502",
   "metadata": {},
   "source": [
    "# Create folder to Store Outputs\n",
    "\n",
    "Prior to sending these variables, we need to create a folder to store them in for tracking purposes and to keep our future reporting tidy."
   ]
  },
  {
   "cell_type": "code",
   "execution_count": 23,
   "id": "104a7e04",
   "metadata": {},
   "outputs": [],
   "source": [
    "# Create date variables\n",
    "now = datetime.datetime.now()\n",
    "month_name = now.strftime(\"%B\")\n",
    "month_short = month_name[:3]\n",
    "year = now.year\n",
    "\n",
    "# Make folder\n",
    "work_dir = f'{month_name} {year}'\n",
    "# Set directory (update this for new PY)\n",
    "parent_dir = os.getcwd()\n",
    "# Join to main path\n",
    "path = os.path.join(parent_dir,work_dir)\n",
    "\n",
    "# Create folder\n",
    "try:\n",
    "    os.mkdir(path)\n",
    "except OSError as error:\n",
    "    print(error)\n"
   ]
  },
  {
   "cell_type": "markdown",
   "id": "e11c40f1",
   "metadata": {},
   "source": [
    "# Send path to TABCMD Batch File and Run \n",
    "\n",
    "Finally we can send the path to the TABCMD script, so that it knows where the final PDFs should be saved. Final step is to run the file!"
   ]
  },
  {
   "cell_type": "code",
   "execution_count": null,
   "id": "1a2e9a2d",
   "metadata": {},
   "outputs": [],
   "source": [
    "# Send path to batch\n",
    "os.putenv(\"path_nm\", path)\n",
    "\n",
    "# Run batch file\n",
    "os.system(\"combine.bat\")"
   ]
  }
 ],
 "metadata": {
  "kernelspec": {
   "display_name": "Python 3 (ipykernel)",
   "language": "python",
   "name": "python3"
  },
  "language_info": {
   "codemirror_mode": {
    "name": "ipython",
    "version": 3
   },
   "file_extension": ".py",
   "mimetype": "text/x-python",
   "name": "python",
   "nbconvert_exporter": "python",
   "pygments_lexer": "ipython3",
   "version": "3.9.7"
  }
 },
 "nbformat": 4,
 "nbformat_minor": 5
}

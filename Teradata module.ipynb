{
 "cells": [
  {
   "cell_type": "code",
   "execution_count": 1,
   "id": "f6122c42",
   "metadata": {},
   "outputs": [],
   "source": [
    "import os \n",
    "import pandas as pd \n",
    "import teradata\n",
    "import numpy as np\n",
    "import logging # getting annoying logging message when creating table, turning it off \n",
    "logging.getLogger().setLevel(logging.CRITICAL)\n",
    "import getpass\n",
    "\n"
   ]
  },
  {
   "cell_type": "code",
   "execution_count": 2,
   "id": "4783d736",
   "metadata": {},
   "outputs": [
    {
     "name": "stdout",
     "output_type": "stream",
     "text": [
      "········\n"
     ]
    }
   ],
   "source": [
    "user = 'grumpy_statistician'\n",
    "auth ='LDAP'\n",
    "passw = getpass.getpass()"
   ]
  },
  {
   "cell_type": "markdown",
   "id": "fc9cfdd9",
   "metadata": {},
   "source": [
    "### Connect to Server"
   ]
  },
  {
   "cell_type": "code",
   "execution_count": 3,
   "id": "8b218a6a",
   "metadata": {},
   "outputs": [],
   "source": [
    "udaExec = teradata.UdaExec(appName=\"test\", version=\"2.0\", logConsole=False)\n",
    "session = udaExec.connect(method=\"odbc\", system='',\n",
    "                          username=user, password=passw, authentication=auth,\n",
    "                          driver=\"Teradata Database ODBC Driver\")\n"
   ]
  },
  {
   "cell_type": "markdown",
   "id": "5ecfbade",
   "metadata": {},
   "source": [
    "### Create Volatile table"
   ]
  },
  {
   "cell_type": "code",
   "execution_count": 4,
   "id": "d2319e8a",
   "metadata": {},
   "outputs": [
    {
     "data": {
      "text/plain": [
       "<teradata.udaexec.UdaExecCursor at 0x1594a3bcca0>"
      ]
     },
     "execution_count": 4,
     "metadata": {},
     "output_type": "execute_result"
    }
   ],
   "source": [
    "session.execute(\"\"\"\n",
    "CREATE VOLATILE TABLE TMP_MEM AS (\n",
    "SELECT \n",
    "*\n",
    "FROM YOUR_DB.YOUR_TABLE_NAME\n",
    ")WITH DATA ON COMMIT PRESERVE ROWS;\n",
    "\"\"\")"
   ]
  },
  {
   "cell_type": "markdown",
   "id": "5bb24e20",
   "metadata": {},
   "source": [
    "### Execute multiple volatile tables from one file\n",
    "If we were reading the sql file we would use:\n",
    "with open ('Your_Script_Name.sql','r') as sql_file:\n",
    "        test = sql_file3.read().\n",
    "For this example I am just going to write in some example volatile tables, separate them into a list and then iterate through that list to execute them.\n"
   ]
  },
  {
   "cell_type": "code",
   "execution_count": 5,
   "id": "3ae13af0",
   "metadata": {},
   "outputs": [],
   "source": [
    "# I just repeated the same code over and over since it doesn't really matter\n",
    "test = \"\"\"\n",
    "CREATE VOLATILE TABLE TMP_MEM1 AS (\n",
    "SELECT \n",
    "*\n",
    "FROM YOUR_DB.YOUR_TABLE_NAME\n",
    ")WITH DATA ON COMMIT PRESERVE ROWS;\n",
    "\n",
    "CREATE VOLATILE TABLE TMP_MEM2 AS (\n",
    "SELECT \n",
    "*\n",
    "FROM YOUR_DB.YOUR_TABLE_NAME\n",
    ")WITH DATA ON COMMIT PRESERVE ROWS;\n",
    "\n",
    "CREATE VOLATILE TABLE TMP_MEM3 AS (\n",
    "SELECT \n",
    "*\n",
    "FROM YOUR_DB.YOUR_TABLE_NAME\n",
    ")WITH DATA ON COMMIT PRESERVE ROWS;\n",
    "\n",
    "\n",
    "\"\"\""
   ]
  },
  {
   "cell_type": "markdown",
   "id": "2f99992a",
   "metadata": {},
   "source": [
    "Now we can split and create our list of sql queries\n"
   ]
  },
  {
   "cell_type": "code",
   "execution_count": 6,
   "id": "fc4f04a0",
   "metadata": {},
   "outputs": [],
   "source": [
    "sqlCommands = test.split(';')"
   ]
  },
  {
   "cell_type": "code",
   "execution_count": 8,
   "id": "2a8151fe",
   "metadata": {},
   "outputs": [],
   "source": [
    "for i in sqlCommands:\n",
    "    try:\n",
    "        session.execute(i)\n",
    "    except Exception as e:\n",
    "        print(e)"
   ]
  },
  {
   "cell_type": "markdown",
   "id": "6639e1e0",
   "metadata": {},
   "source": [
    "Done. You can verify by using pd.read_sql() later."
   ]
  },
  {
   "cell_type": "markdown",
   "id": "5d20dc85",
   "metadata": {},
   "source": [
    "### Insert Records into the database\n",
    "Executemany can be utilized to add multiple records into a database, there is a limit to the number of records you can add in batch, but this can be avoided.\n",
    "Let's create a table and try to insert some records into it (the try and except were added to drop the table incase it was already loaded)."
   ]
  },
  {
   "cell_type": "code",
   "execution_count": 35,
   "id": "ef3fe36d",
   "metadata": {
    "scrolled": false
   },
   "outputs": [
    {
     "name": "stdout",
     "output_type": "stream",
     "text": [
      "dropping...\n",
      "done.\n"
     ]
    }
   ],
   "source": [
    "try:\n",
    "    session.execute(\"\"\"\n",
    "    CREATE TABLE YOUR_DB.YOUR_TABLENAME (\n",
    "        thing1 VARCHAR(6),\n",
    "        thing2 NUMBER(6))\n",
    "              ; \"\"\")\n",
    "    print('complete.')\n",
    "except:\n",
    "    print('dropping...')\n",
    "    session.execute(\"\"\"\n",
    "    DROP TABLE YOUR_DB.YOUR_TABLENAME \n",
    "              ; \"\"\")  \n",
    "    session.execute(\"\"\"\n",
    "    CREATE TABLE YOUR_DB.YOUR_TABLENAME (\n",
    "        thing1 VARCHAR(6),\n",
    "        thing2 NUMBER(6))\n",
    "              ; \"\"\")\n",
    "    print('complete.')"
   ]
  },
  {
   "cell_type": "markdown",
   "id": "8dd8c5fe",
   "metadata": {},
   "source": [
    "Read in one of the volatile tables to a dataframe"
   ]
  },
  {
   "cell_type": "code",
   "execution_count": 37,
   "id": "a17da837",
   "metadata": {},
   "outputs": [],
   "source": [
    "df =pd.read_sql(\"\"\"\n",
    "SELECT \n",
    "*\n",
    "FROM TMP_MEM3\n",
    "\n",
    "\"\"\",session)"
   ]
  },
  {
   "cell_type": "markdown",
   "id": "f1c02817",
   "metadata": {},
   "source": [
    "Create list from records and load into a table using executemany. There are two ways to do this, the first option is suitable for smaller files less than 10k. The second will be for larger files."
   ]
  },
  {
   "cell_type": "markdown",
   "id": "9db38dd0",
   "metadata": {},
   "source": [
    "##### Option 1"
   ]
  },
  {
   "cell_type": "code",
   "execution_count": 40,
   "id": "740103df",
   "metadata": {},
   "outputs": [],
   "source": [
    "data = [tuple(x) for x in df.to_records(index=False)]"
   ]
  },
  {
   "cell_type": "code",
   "execution_count": 45,
   "id": "90fb6b73",
   "metadata": {
    "scrolled": true
   },
   "outputs": [
    {
     "data": {
      "text/plain": [
       "<teradata.udaexec.UdaExecCursor at 0x249c36cbeb0>"
      ]
     },
     "execution_count": 45,
     "metadata": {},
     "output_type": "execute_result"
    }
   ],
   "source": [
    "session.executemany(\"\"\"\n",
    "INSERT INTO YOUR_DB.YOUR_TABLENAME\n",
    "( thing1,thing2)\n",
    "VALUES\n",
    "(?,?)\n",
    "\"\"\",data,batch=True)"
   ]
  },
  {
   "cell_type": "markdown",
   "id": "c26c8fe3",
   "metadata": {},
   "source": [
    "Read results and check"
   ]
  },
  {
   "cell_type": "code",
   "execution_count": 50,
   "id": "50111791",
   "metadata": {},
   "outputs": [],
   "source": [
    "df_table = pd.read_sql(\"\"\"\n",
    "SELECT\n",
    "*\n",
    "FROM YOUR_DB.YOUR_TABLENAME\n",
    "\n",
    "\"\"\",session)"
   ]
  },
  {
   "cell_type": "markdown",
   "id": "d565772c",
   "metadata": {},
   "source": [
    "##### Option 2"
   ]
  },
  {
   "cell_type": "markdown",
   "id": "c8f2a868",
   "metadata": {},
   "source": [
    "First, we should create the table"
   ]
  },
  {
   "cell_type": "code",
   "execution_count": 83,
   "id": "bd03369a",
   "metadata": {},
   "outputs": [
    {
     "name": "stdout",
     "output_type": "stream",
     "text": [
      "complete.\n"
     ]
    }
   ],
   "source": [
    "try:\n",
    "    session.execute(\"\"\"\n",
    "    CREATE TABLE YOUR_DB.YOUR_TABLENAME (\n",
    "       thing1 varchar(20))\n",
    "              ; \"\"\")\n",
    "    print('complete.')\n",
    "except:\n",
    "    print('dropping...')\n",
    "    session.execute(\"\"\"\n",
    "    DROP TABLE YOUR_DB.YOUR_TABLENAME\n",
    "              ; \"\"\")  \n",
    "    session.execute(\"\"\"\n",
    "    CREATE TABLE YOUR_DB.YOUR_TABLENAME (\n",
    "       thing1 varchar(20))\n",
    "              ; \"\"\")\n",
    "    print('complete.')"
   ]
  },
  {
   "cell_type": "markdown",
   "id": "e0d715c7",
   "metadata": {},
   "source": [
    "Now let's bring in a table with more rows"
   ]
  },
  {
   "cell_type": "code",
   "execution_count": 84,
   "id": "93514d65",
   "metadata": {},
   "outputs": [],
   "source": [
    "df2= pd.read_sql('''\n",
    "\n",
    "SELECT \n",
    "distinct\n",
    "thing1\n",
    "FROM YOUR_DB.YOUR_TABLENAME\n",
    "SAMPLE 20000\n",
    "\n",
    "''',session)"
   ]
  },
  {
   "cell_type": "markdown",
   "id": "295c2e08",
   "metadata": {},
   "source": [
    "Split into sub-arrays for batch loading and assign to new variable"
   ]
  },
  {
   "cell_type": "code",
   "execution_count": 85,
   "id": "34cd2508",
   "metadata": {},
   "outputs": [],
   "source": [
    "df_len = len(df2.index)\n",
    "chunk = ceil(df_len/10000)\n",
    "chunks_df = np.array_split(df,chunk)"
   ]
  },
  {
   "cell_type": "code",
   "execution_count": 86,
   "id": "316c79e0",
   "metadata": {},
   "outputs": [],
   "source": [
    "for i,_ in enumerate(chunks_df):\n",
    "    data = [tuple(x) for x in chunks_df[i].to_records(index=False)]\n",
    "    session.executemany(\"\"\"\n",
    "INSERT INTO YOUR_DB.YOUR_TABLENAME\n",
    "(thing1)\n",
    "VALUES\n",
    "(?)\n",
    "\"\"\",data,batch=True)"
   ]
  },
  {
   "cell_type": "code",
   "execution_count": 87,
   "id": "d444c38c",
   "metadata": {},
   "outputs": [],
   "source": [
    "df_table2 = pd.read_sql(\"\"\"\n",
    "SELECT\n",
    "*\n",
    "FROM YOUR_DB.YOUR_TABLENAME\n",
    "\n",
    "\"\"\",session)"
   ]
  },
  {
   "cell_type": "markdown",
   "id": "a8e58aa6",
   "metadata": {},
   "source": [
    "Be sure to drop the tables before closing this out!"
   ]
  },
  {
   "cell_type": "code",
   "execution_count": 91,
   "id": "aaea255d",
   "metadata": {},
   "outputs": [
    {
     "name": "stdout",
     "output_type": "stream",
     "text": [
      "already dropped!\n",
      "already dropped!\n"
     ]
    }
   ],
   "source": [
    "try:\n",
    "    session.execute(\"\"\"\n",
    "    DROP TABLE YOUR_DB.YOUR_TABLENAME;\n",
    "    \"\"\")\n",
    "except:\n",
    "    print('already dropped!')\n",
    "try:\n",
    "    session.execute(\"\"\"\n",
    "    DROP TABLE YOUR_DB.YOUR_TABLENAME;\n",
    "    \"\"\")\n",
    "except: \n",
    "    print('already dropped!')"
   ]
  }
 ],
 "metadata": {
  "kernelspec": {
   "display_name": "Python 3 (ipykernel)",
   "language": "python",
   "name": "python3"
  },
  "language_info": {
   "codemirror_mode": {
    "name": "ipython",
    "version": 3
   },
   "file_extension": ".py",
   "mimetype": "text/x-python",
   "name": "python",
   "nbconvert_exporter": "python",
   "pygments_lexer": "ipython3",
   "version": "3.9.7"
  }
 },
 "nbformat": 4,
 "nbformat_minor": 5
}
